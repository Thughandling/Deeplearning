{
 "cells": [
  {
   "cell_type": "markdown",
   "metadata": {},
   "source": [
    "1. 평균값 구하기\n",
    "다음과 같이 총 10줄로 이루어진 sample.txt 파일이 있다. sample.txt 파일의 숫자 값을 모두 읽어 총합과 평균 값을 구한 후 \n",
    "평균 값을 result.txt 파일에 쓰는 프로그램을 작성하시오."
   ]
  },
  {
   "cell_type": "code",
   "execution_count": 18,
   "metadata": {},
   "outputs": [
    {
     "name": "stdout",
     "output_type": "stream",
     "text": [
      "평균 값 =>  79\n",
      "79\n"
     ]
    }
   ],
   "source": [
    "sum = 0\n",
    "count =0\n",
    "with open(\"sample.txt\",\"r\") as f:\n",
    "    line = f.readlines()\n",
    "    for i in line:\n",
    "        sum += int(i)\n",
    "        count+=1\n",
    "\n",
    "avg = str(sum//count)\n",
    "print(\"평균 값 => \", avg)\n",
    "\n",
    "with open(\"result.txt\",\"w\") as f:\n",
    "    f.write(avg)\n",
    "with open(\"result.txt\",\"r\") as f:\n",
    "    line = f.read()\n",
    "    print(line)"
   ]
  },
  {
   "cell_type": "markdown",
   "metadata": {},
   "source": [
    "2. 패턴식을 정의하고 테스트 하시오\n",
    "\n",
    "emails = ['python@mail.example.com', 'python+kr@example.com',              # 올바른 형식\n",
    "          'python-lang@example.co.kr', 'python_10@example.info',         # 올바른 형식\n",
    "          'python.lang@e-xample.com',                                    # 올바른 형식\n",
    "          '@example.com', 'python@example', 'python@example-com']          # 잘못된 형식\n"
   ]
  },
  {
   "cell_type": "code",
   "execution_count": 19,
   "metadata": {},
   "outputs": [],
   "source": [
    "import re"
   ]
  },
  {
   "cell_type": "code",
   "execution_count": 1,
   "metadata": {},
   "outputs": [
    {
     "name": "stdout",
     "output_type": "stream",
     "text": [
      "True True True True True False False False "
     ]
    }
   ],
   "source": [
    "import re\n",
    "\n",
    "p = re.compile('^[a-zA-Z0-9+-_.]+@[a-zA-Z0-9-]+\\.[a-zA-Z0-9-.]+$')\n",
    "# 아이디 부분 '영문자','숫자','.','-','+','_' 가능\n",
    "# => ^[a-zA-Z0-9+-_.]+\n",
    "\n",
    "# 오류 : 아이디 없거나, 최상위 도메인 없거나, 도메인 이후, '.'으로 연결안되어있는 경우.\n",
    "#[a-zA-Z0-9-]+\\.[a-zA-Z0-9-.]+$\n",
    "\n",
    "# ^문장 맨앞 확인, $문장 맨뒤 확인\n",
    "# @ 구분\n",
    "# \n",
    "\n",
    "emails = ['python@mail.example.com', 'python+kr@example.com',              # 올바른 형식\n",
    "          'python-dojang@example.co.kr', 'python_10@example.info',         # 올바른 형식\n",
    "          'python.dojang@e-xample.com',                                    # 올바른 형식\n",
    "          '@example.com', 'python@example', 'python@example-com']          # 잘못된 형식\n",
    " \n",
    "for email in emails:\n",
    "    print(p.match(email) != None, end=' ')"
   ]
  },
  {
   "cell_type": "code",
   "execution_count": 28,
   "metadata": {},
   "outputs": [
    {
     "name": "stdout",
     "output_type": "stream",
     "text": [
      "['35도', '30도', '30도']\n"
     ]
    }
   ],
   "source": [
    "news=\"\"\"\n",
    "2020년 6월 9일 17시 발표된 날씨예보17입니다.\n",
    "지역별 더 자세한 날씨는 기상청 날씨누리와 기상청 날씨알리미앱을 참고하시기 바랍니다.\n",
    "\n",
    "여러분 안녕하세요.\n",
    "KBS 기상캐스터 강아랑 입니다.\n",
    "오늘은 제가 날씨해설 한번 해보도록 하겠습니다.\n",
    "오늘 한 낮에 많이 더우셨죠.\n",
    "남쪽에서 따뜻한 바람이 불어오고\n",
    "또 한낮에는 햇볕이 강하게 내리쬐면서\n",
    "오늘도 곳곳의 기온이 아주 큰 폭으로 올랐습니다.\n",
    "서울을 비롯한 전국 곳곳에 여전히 폭염특보가 발효 중인 가운데\n",
    "오늘 한 낮 최고 기온 분포도를 지도로 나타낸 그림인데요.\n",
    "이처럼 붉은색으로 보이는 지역은요.\n",
    "오늘 한낮에 35도 이상의 아주 더운 날씨를 보였고\n",
    "역시 전국 대부분 지역이 붉은색으로 뒤덮여 있습니다.\n",
    "역시 30도 이상의 분포를 보이면서\n",
    "전국적으로 매우 더운 날씨를 보였던 걸 확인할 수가 있습니다.\n",
    "\n",
    "계속해서 날씨 알아보도록 하겠습니다.\n",
    "우리나라 북서쪽에 이처럼 구름대가 지나고 있고\n",
    "그 동쪽에 위치한 우리나라는 계속해서\n",
    "뜨거운 공기의 영향을 받고 있는 것을 보실 수가 있는데요.\n",
    "지상일기도입니다.\n",
    "내일도 우리나라 계속해서 고기압의 영향을 받아서\n",
    "맑은 날씨가 이어지는 가운데 강한 햇볕의 영향을 받아서\n",
    "내일 한낮 기온도 큰 폭으로 오르는 곳이 있겠는데요.\n",
    "다만 오늘 따뜻한 남풍이 불었지만\n",
    "내일은 이 영향에서 좀 더 벗어나면서\n",
    "해안가를 중심으로는 다소 선선한 날씨가 예상되고\n",
    "내륙을 중심으로 30도 이상의 더운 날씨가 이어질 것으로 예상이 됩니다.\n",
    "각종 건강관리에 각별히 유의하시기 바랍니다.\n",
    "\n",
    "앞으로 비 소식이 나와 있습니다.\n",
    "우리나라 남서쪽으로는 낮은 구름대가 위치해 있는 걸 보실 수가 있는데요.\n",
    "저기압에 동반된 구름대가 점차 우리나라 쪽으로 다가오게 되면서\n",
    "내일 오후부터 비가 시작될 것으로 예상됩니다.\n",
    "내일 오후에 제주와 일부 호남지역을 시작으로\n",
    "밤이 되면 빠르게 전국 곳곳으로 비가 확대될 것으로 예상이 되고요\n",
    "밤새 비가 이어진 뒤에 먼저 아침에 서쪽 지역을 시작으로 낮이 되면\n",
    "대부분 지역에 비가 그칠 것으로 예상이 되고 있습니다.\n",
    "\n",
    "제주지역에 경우에는 계속해서 비가 이어지겠지만\n",
    "이번 주말에 또다시 전국 곳곳에 비가 이어진 뒤에\n",
    "다음 주부터 당분간은 그 밖의 지역 뚜렷한 비 소식이 나와 있지 않습니다.\n",
    "앞으로도 기상정보 잘 참고 하시길 바라겠습니다.\n",
    "지금까지 KBS 기상캐스터 강아랑이었습니다.\n",
    "\"\"\"\n",
    "\n",
    "print(re.findall(\"\\d.+도\",news))"
   ]
  },
  {
   "cell_type": "code",
   "execution_count": 88,
   "metadata": {},
   "outputs": [
    {
     "name": "stdout",
     "output_type": "stream",
     "text": [
      "['22~25도', '27~33도']\n",
      "['20~60mm', '5~40mm']\n",
      "['5mm']\n"
     ]
    }
   ],
   "source": [
    "Today_news=\"\"\"\n",
    "중국 산둥반도 부근에서 남동진하는 고기압의 영향을 받겠습니다.\n",
    "\n",
    "(모레까지 곳에 따라 소나기) 오늘(15일)과 내일(16일) 전국 대부분 지역에 돌풍과 천둥.번개를 동반한 소나기가 오는 곳이 있겠습니다.\n",
    "\n",
    "또한, 모레(17일)도 낮(09시)부터 밤(21시) 사이 경기남부내륙과 강원내륙.산지, 충청권내륙, 남부지방에 돌풍과 천둥.번개를 동반한 \n",
    "소나기가 오는 곳이 있겠고, 제주도에는 새벽(00시)부터 흐리고 비가 오는 곳이 있겠습니다.\n",
    "\n",
    "\n",
    "- 특히, 오늘은 중부내륙과 경북권내륙, 내일은 중부내륙을 중심으로 시간당 70mm 이상의 매우 강한 소나기가 오는 곳이 있겠고, \n",
    "일부 지역에서는 우박이 떨어질 가능성이 있겠으니, 피해없도록 각별히 주의하기 바랍니다.\n",
    "\n",
    "\n",
    "(기온) 전국에 폭염특보가 발효된 가운데, 내일(16일)까지 전국 대부분 지역의 낮 기온이 32도 이상, 모레(17일)는 수도권과 강원영서, \n",
    "충청권, 전라권을 중심으로 낮 기온이 32도 이상으로 높겠고, 습도가 높아 체감온도는 33도 이상(일부 지역 35도 이상)으로 올라 \n",
    "매우 덥겠습니다.\n",
    "\n",
    "또한, 밤사이 열대야가 나타나는 곳도 있겠습니다.\n",
    "\n",
    "\n",
    "- 내일(16일) 아침최저기온은 22~25도, 낮최고기온은 27~33도가 되겠습니다.\n",
    "\n",
    "\n",
    "(안개) 오늘(15일) 밤(21시)부터 내일(16일) 아침(09시) 사이에 서해안과 동해안, 일부 내륙을 중심으로 가시거리 \n",
    "1km 미만의 안개가 끼는 곳이 있겠고, 특히, 내륙의 강이나 호수, 골짜기 등과, \n",
    "바다 안개가 유입되는 도서지역과 해안에 인접한 지역에서는 국지적으로 짙은 안개가 끼는 곳이 있겠으니, \n",
    "차량운행 시 차간거리를 충분히 유지하고 감속 운행하여 추돌사고 등의 피해가 발생하지 않도록 각별히 주의하기 바랍니다.\n",
    "\n",
    "\n",
    "- 모레(17일)까지 전 해상에 바다 안개가 끼는 곳이 있겠고, 특히, 내일(16일)까지 전 해상 앞바다를 중심으로 매우 짙은 \n",
    "안개가 끼는 곳이 있겠으니, 해상 안전사고에 각별히 유의하기 바랍니다.\n",
    "\n",
    "바다의 물결은 서해남부먼바다와 남해먼바다, 동해전해상, 제주도전해상에서 2.0~6.0m로 매우 높게 일다가 차차 낮아지겠고, \n",
    "그 밖의 해상에서는 0.5~3m 로 일겠습니다.\n",
    "\n",
    "* 예상 강수량(26일 00시부터 27일 24시까지)\n",
    "- 제주도(25일부터), 강원영동 : 20~60mm\n",
    "- 강원영서, 충청도, 남부지방(전남해안은 25일부터), 울릉도.독도, 북한 : 5~40mm\n",
    "- (26일) 서울.경기도(경기동부는 27일까지), 서해5도 : 5mm 미만\n",
    "\"\"\"\n",
    "\n",
    "print(re.findall(\"[0-9]+~[0-9]+도\",Today_news))\n",
    "print(re.findall(\"\\d{0,2}~\\d+m{2}\",Today_news))\n",
    "print(re.findall(\"[1-9]m{2}\",Today_news))\n",
    "#rint(re.findall(\"\\d+m{2}\",Today_news))\n"
   ]
  },
  {
   "cell_type": "code",
   "execution_count": null,
   "metadata": {},
   "outputs": [],
   "source": []
  }
 ],
 "metadata": {
  "kernelspec": {
   "display_name": "Python 3",
   "language": "python",
   "name": "python3"
  },
  "language_info": {
   "codemirror_mode": {
    "name": "ipython",
    "version": 3
   },
   "file_extension": ".py",
   "mimetype": "text/x-python",
   "name": "python",
   "nbconvert_exporter": "python",
   "pygments_lexer": "ipython3",
   "version": "3.8.5"
  }
 },
 "nbformat": 4,
 "nbformat_minor": 4
}
