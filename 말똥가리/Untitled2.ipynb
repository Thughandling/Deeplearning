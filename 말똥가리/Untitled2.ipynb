{
 "cells": [
  {
   "cell_type": "code",
   "execution_count": 1,
   "metadata": {},
   "outputs": [],
   "source": [
    "x='머신러닝은 인공지능의 한 분류입니다.'\n",
    "y='런닝머신은 운동 기구중의 하나입니다.'\n",
    "A = list(range(len(x)))\n",
    "B = list(range(len(y)))"
   ]
  },
  {
   "cell_type": "code",
   "execution_count": 2,
   "metadata": {},
   "outputs": [
    {
     "name": "stdout",
     "output_type": "stream",
     "text": [
      "머신 신러 러닝 닝은 은   인 인공 공지 지능 능의 의   한 한   분 분류 류입 입니 니다 다. "
     ]
    },
    {
     "data": {
      "text/plain": [
       "[('머', '신'),\n",
       " ('신', '러'),\n",
       " ('러', '닝'),\n",
       " ('닝', '은'),\n",
       " ('은', ' '),\n",
       " (' ', '인'),\n",
       " ('인', '공'),\n",
       " ('공', '지'),\n",
       " ('지', '능'),\n",
       " ('능', '의'),\n",
       " ('의', ' '),\n",
       " (' ', '한'),\n",
       " ('한', ' '),\n",
       " (' ', '분'),\n",
       " ('분', '류'),\n",
       " ('류', '입'),\n",
       " ('입', '니'),\n",
       " ('니', '다'),\n",
       " ('다', '.'),\n",
       " 19]"
      ]
     },
     "execution_count": 2,
     "metadata": {},
     "output_type": "execute_result"
    }
   ],
   "source": [
    "\n",
    "for i in range(len(x) -1 ):\n",
    "    print(x[i],x[i+1],sep='',end= \" \")\n",
    "    A[i]=(x[i],x[i+1])\n",
    "A"
   ]
  },
  {
   "cell_type": "code",
   "execution_count": 3,
   "metadata": {},
   "outputs": [
    {
     "name": "stdout",
     "output_type": "stream",
     "text": [
      "런닝 닝머 머신 신은 은   운 운동 동   기 기구 구중 중의 의   하 하나 나입 입니 니다 다. "
     ]
    },
    {
     "data": {
      "text/plain": [
       "[('런', '닝'),\n",
       " ('닝', '머'),\n",
       " ('머', '신'),\n",
       " ('신', '은'),\n",
       " ('은', ' '),\n",
       " (' ', '운'),\n",
       " ('운', '동'),\n",
       " ('동', ' '),\n",
       " (' ', '기'),\n",
       " ('기', '구'),\n",
       " ('구', '중'),\n",
       " ('중', '의'),\n",
       " ('의', ' '),\n",
       " (' ', '하'),\n",
       " ('하', '나'),\n",
       " ('나', '입'),\n",
       " ('입', '니'),\n",
       " ('니', '다'),\n",
       " ('다', '.'),\n",
       " 19]"
      ]
     },
     "execution_count": 3,
     "metadata": {},
     "output_type": "execute_result"
    }
   ],
   "source": [
    "\n",
    "for i in range(len(x) -1 ):\n",
    "    print(y[i],y[i+1],sep='',end= \" \")\n",
    "    B[i]=(y[i],y[i+1])\n",
    "B"
   ]
  },
  {
   "cell_type": "code",
   "execution_count": 4,
   "metadata": {},
   "outputs": [
    {
     "name": "stdout",
     "output_type": "stream",
     "text": [
      "4 ('은', ' ') ('은', ' ')\n",
      "표절 의심\n",
      "16 ('입', '니') ('입', '니')\n",
      "표절 의심\n",
      "17 ('니', '다') ('니', '다')\n",
      "표절 의심\n",
      "18 ('다', '.') ('다', '.')\n",
      "표절 의심\n",
      "유사도=> 0.2\n"
     ]
    }
   ],
   "source": [
    "su = 0\n",
    "Fa =0\n",
    "for i in range(len(A)-1):\n",
    "    if A[i]==B[i]:\n",
    "        print(i,A[i],B[i])        \n",
    "        Fa+=1\n",
    "        print('표절 의심')   \n",
    "print(\"유사도=>\", Fa/len(A))"
   ]
  },
  {
   "cell_type": "code",
   "execution_count": 5,
   "metadata": {},
   "outputs": [
    {
     "name": "stdout",
     "output_type": "stream",
     "text": [
      "up [5, 8, 3, 1, 5, 6, 9, 9, 2, 2, 4]\n",
      "down [5, 8, 3, 2, 5, 6, 9, 9, 2, 2, 4]\n",
      "down [5, 8, 3, 2, 5, 6, 8, 9, 2, 2, 4]\n",
      "up [5, 8, 3, 2, 5, 6, 8, 8, 2, 2, 4]\n",
      "up [5, 8, 3, 2, 5, 6, 8, 8, 3, 2, 4]\n",
      "down [5, 8, 3, 2, 5, 6, 8, 8, 3, 3, 4]\n",
      "up [5, 7, 3, 2, 5, 6, 8, 8, 3, 3, 4]\n",
      "down [5, 7, 3, 3, 5, 6, 8, 8, 3, 3, 4]\n",
      "down [5, 7, 3, 3, 5, 6, 7, 8, 3, 3, 4]\n",
      "up [5, 7, 3, 3, 5, 6, 7, 7, 3, 3, 4]\n",
      "up [5, 7, 3, 3, 5, 6, 7, 7, 4, 3, 4]\n",
      "down [5, 7, 3, 3, 5, 6, 7, 7, 4, 4, 4]\n",
      "up [5, 6, 3, 3, 5, 6, 7, 7, 4, 4, 4]\n",
      "up [5, 6, 4, 3, 5, 6, 7, 7, 4, 4, 4]\n",
      "down [5, 6, 4, 4, 5, 6, 7, 7, 4, 4, 4]\n",
      "down [5, 6, 4, 4, 5, 6, 6, 7, 4, 4, 4]\n",
      "up [5, 6, 4, 4, 5, 6, 6, 6, 4, 4, 4]\n",
      "up [5, 6, 4, 4, 5, 6, 6, 6, 5, 4, 4]\n",
      "up [5, 6, 4, 4, 5, 6, 6, 6, 5, 5, 4]\n",
      "down [5, 6, 4, 4, 5, 6, 6, 6, 5, 5, 5]\n"
     ]
    },
    {
     "data": {
      "text/plain": [
       "2"
      ]
     },
     "execution_count": 5,
     "metadata": {},
     "output_type": "execute_result"
    }
   ],
   "source": [
    "flat = [5,8,3,1,5,6,9,9,2,2,4]\n",
    "i=0\n",
    "j=0\n",
    "down =0\n",
    "up = 0 \n",
    "count= up+down\n",
    "\n",
    "while True:\n",
    "    if i>10:\n",
    "        i=0 \n",
    " \n",
    "    if flat[i] == max(flat):\n",
    "        print(\"down\", flat)\n",
    "        flat[i]-=1\n",
    "        down+=1\n",
    "    \n",
    "    elif flat[i] == min(flat):\n",
    "        print(\"up\", flat)\n",
    "        flat[i]+=1\n",
    "        up+=1\n",
    "    i+=1\n",
    "    if (up+down)>=20:\n",
    "        break\n",
    "\n",
    "gap = max(flat)-min(flat)\n",
    "gap\n",
    "\n",
    "\n"
   ]
  },
  {
   "cell_type": "code",
   "execution_count": 6,
   "metadata": {},
   "outputs": [
    {
     "name": "stdout",
     "output_type": "stream",
     "text": [
      "hello\n",
      "ex01\n",
      "intro\n"
     ]
    }
   ],
   "source": [
    "li = ['hello.py', 'ex01.py','intro.hwp']\n",
    "for i in li:\n",
    "    print(i.split(\".\")[0])"
   ]
  },
  {
   "cell_type": "code",
   "execution_count": 7,
   "metadata": {},
   "outputs": [
    {
     "name": "stdout",
     "output_type": "stream",
     "text": [
      "50 100 30 80 0 "
     ]
    }
   ],
   "source": [
    "low_prices = [100, 200, 400, 800, 1000]\n",
    "high_prices = [150, 300, 430, 880, 1000]\n",
    "volatility = list(range(len(low_prices)))\n",
    "\n",
    "for i in range(len(low_prices)):\n",
    "    volatility[i]=high_prices[i]-low_prices[i]\n",
    "    print(volatility[i],end=\" \")\n",
    "  \n",
    "    \n"
   ]
  },
  {
   "cell_type": "code",
   "execution_count": 8,
   "metadata": {},
   "outputs": [
    {
     "name": "stdout",
     "output_type": "stream",
     "text": [
      "101 호\n",
      "102 호\n",
      "-----\n",
      "201 호\n",
      "202 호\n",
      "-----\n",
      "301 호\n",
      "302 호\n",
      "-----\n"
     ]
    }
   ],
   "source": [
    "apart = [ [101, 102], [201, 202], [301, 302] ]\n",
    "\n",
    "for i in range(len(apart)):\n",
    "    for j in range(len(apart[i])):\n",
    "        #print(apart[i][j])\n",
    "        print(apart[i][j], '호')\n",
    "    print(\"-----\")\n",
    "    "
   ]
  },
  {
   "cell_type": "code",
   "execution_count": 3,
   "metadata": {},
   "outputs": [
    {
     "data": {
      "text/plain": [
       "'039490'"
      ]
     },
     "execution_count": 3,
     "metadata": {},
     "output_type": "execute_result"
    }
   ],
   "source": [
    "\n",
    "data = \"039490 \"\n",
    "data.strip()"
   ]
  },
  {
   "cell_type": "code",
   "execution_count": 4,
   "metadata": {},
   "outputs": [
    {
     "data": {
      "text/plain": [
       "'a#b#c#d'"
      ]
     },
     "execution_count": 4,
     "metadata": {},
     "output_type": "execute_result"
    }
   ],
   "source": [
    "a = \"a:b:c:d\"\n",
    "a.replace(':',\"#\")"
   ]
  },
  {
   "cell_type": "code",
   "execution_count": 6,
   "metadata": {},
   "outputs": [
    {
     "data": {
      "text/plain": [
       "['슈퍼맨', 'Mr. Doctor strange', 'Split', 'Lucky']"
      ]
     },
     "execution_count": 6,
     "metadata": {},
     "output_type": "execute_result"
    }
   ],
   "source": [
    "movie_rank = [\"Mr. Doctor strange\", \"Split\", \"Lucky\"]\n",
    "movie_rank.insert(0, \"슈퍼맨\")\n",
    "movie_rank"
   ]
  },
  {
   "cell_type": "code",
   "execution_count": 7,
   "metadata": {},
   "outputs": [
    {
     "name": "stdout",
     "output_type": "stream",
     "text": [
      "[1, 2, 3, 4, 5, 6, 7, 8, 9]\n"
     ]
    }
   ],
   "source": [
    "nums = [1, 2, 3, 4, 5, 6, 7, 8, 9, 10]\n",
    "print(nums[0:9:1])"
   ]
  },
  {
   "cell_type": "code",
   "execution_count": 8,
   "metadata": {},
   "outputs": [
    {
     "name": "stdout",
     "output_type": "stream",
     "text": [
      "[1, 3, 5, 7, 9]\n"
     ]
    }
   ],
   "source": [
    "print(nums[0:9:2])"
   ]
  },
  {
   "cell_type": "code",
   "execution_count": null,
   "metadata": {},
   "outputs": [],
   "source": []
  }
 ],
 "metadata": {
  "kernelspec": {
   "display_name": "Python 3",
   "language": "python",
   "name": "python3"
  },
  "language_info": {
   "codemirror_mode": {
    "name": "ipython",
    "version": 3
   },
   "file_extension": ".py",
   "mimetype": "text/x-python",
   "name": "python",
   "nbconvert_exporter": "python",
   "pygments_lexer": "ipython3",
   "version": "3.8.5"
  }
 },
 "nbformat": 4,
 "nbformat_minor": 4
}
