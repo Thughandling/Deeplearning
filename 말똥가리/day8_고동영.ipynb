{
 "cells": [
  {
   "cell_type": "markdown",
   "metadata": {},
   "source": [
    "1. 피보나치"
   ]
  },
  {
   "cell_type": "code",
   "execution_count": 1,
   "metadata": {
    "scrolled": true
   },
   "outputs": [
    {
     "name": "stdout",
     "output_type": "stream",
     "text": [
      "[0, 1, 1, 2, 3, 5, 8, 13, 21]\n"
     ]
    }
   ],
   "source": [
    "def func(a):\n",
    "    s=[0,1,]\n",
    "    for i in range(a):\n",
    "        b = s[i]+s[i+1] #초항 두번째항 주어지고, 새로운 리스트에 추가로 더해가면서 저장\n",
    "        s.append(b)\n",
    "    print(s)\n",
    "func(7)"
   ]
  },
  {
   "cell_type": "markdown",
   "metadata": {},
   "source": [
    "2. 다음(카카오) 입사문제(리스트로 푸세요)\n",
    "1차원의 점들이 주어졌을 때, 그 중 가장 거리가 짧은 것의 쌍을 출력하는 함수를 작성하시오.\n",
    "(단 점들의 배열은 모두 정렬되어있다고 가정한다.)\n",
    "예를들어 S={1, 3, 4, 8, 13, 17, 20} 이 주어졌다면, 결과값은 (3, 4)가 될 것이다.\n"
   ]
  },
  {
   "cell_type": "code",
   "execution_count": 2,
   "metadata": {},
   "outputs": [
    {
     "name": "stdout",
     "output_type": "stream",
     "text": [
      "[]\n",
      "최소 길이 =  0 쌍=> [3, 3]\n"
     ]
    }
   ],
   "source": [
    "S = [1,3,3,4,8,13,17,20]\n",
    "F = []\n",
    "def shortest_dist(a):\n",
    "    i = 1\n",
    "    j = i+1\n",
    "    L = a[1]-a[0] \n",
    "    while True:\n",
    "        if i >= (len(a)-1) or j >= (len(a)-1):\n",
    "            #print(i, j)\n",
    "            break\n",
    "        elif a[j]-a[i] < L: #피보나치 시작과 비슷, 초항 둘째항을 통한 첫번째 차이값을 구하고,\n",
    "            L = a[j]-a[i]   # 인덱스 올려가면서 차이값을 계속 비교 하며 갱신\n",
    "            F.append(a[i])   #L 인덱스 차이 값\n",
    "            F.append(a[j])\n",
    "            \n",
    "        i+=1\n",
    "        j+=1\n",
    "    print('최소 길이 = ', L,'쌍=>' ,F)\n",
    "    \n",
    "shortest_dist(S)"
   ]
  },
  {
   "cell_type": "markdown",
   "metadata": {},
   "source": [
    "3. 문자열 바꾸기\n",
    "다음과 같은 문자열이 있다.\n",
    "a:b:c:d\n",
    "문자열의 split와 join 함수를 사용하여 위 문자열을 다음과 같이 고치시오.\n",
    "a#b#c#d"
   ]
  },
  {
   "cell_type": "code",
   "execution_count": 3,
   "metadata": {},
   "outputs": [
    {
     "data": {
      "text/plain": [
       "'a#b#c#d'"
      ]
     },
     "execution_count": 3,
     "metadata": {},
     "output_type": "execute_result"
    }
   ],
   "source": [
    "string = 'a:b:c:d'\n",
    "string= string.split(':')\n",
    "string=\"#\".join(string)\n",
    "string"
   ]
  },
  {
   "cell_type": "markdown",
   "metadata": {},
   "source": [
    "4. 리스트 평균 구하기\n",
    "다음은 A학급 학생의 점수를 나타내는 리스트이다.\n",
    "다음 리스트에서 60점 이상 점수의 평균을 구하시오.\n",
    "A = [20, 55, 67, 82, 45, 33, 90, 87, 100, 25]"
   ]
  },
  {
   "cell_type": "code",
   "execution_count": 4,
   "metadata": {},
   "outputs": [
    {
     "name": "stdout",
     "output_type": "stream",
     "text": [
      "평균 = >  85\n"
     ]
    }
   ],
   "source": [
    "A = [20, 55, 67, 82, 45, 33, 90, 87, 100, 25]\n",
    "sum = 0\n",
    "count = 0 \n",
    "for i in A:\n",
    "    if i >= 60:\n",
    "        sum +=i\n",
    "        count+=1\n",
    "print('평균 = > ',sum//count)"
   ]
  },
  {
   "cell_type": "markdown",
   "metadata": {},
   "source": [
    "\n",
    "5. 유사도\n",
    "sen1 = \"오늘 멀티캠퍼스에서 너무 쉬운 프로그래밍을 공부했다\"\n",
    "sen2 = \"멀티캠퍼스에서 공부했던 오늘의 프로그래밍은 너무 쉬웠다\"\n",
    "\n",
    "similarity(sen1, sen2, 2) #두 문장의 유사도는 68%입니다.\n",
    "similarity(sen1, sen2, 3) #두 문장의 유사도는 53%입니다.\n",
    "\n",
    "n: 문자의 개수\n",
    "n=2일 경우, \n",
    "1) 2개씩 쪼갠다. \n",
    "['오늘', '늘 ', ' 멀', ..., '부했', '했다']\n",
    "['멀티', '티캠', '캠퍼', ..., '쉬웠', '웠다']\n",
    "\n",
    "2) 한 리스트 내에서 중복되는 단어는 제외시킨다.\n",
    "\n",
    "3) 길이가 더 긴 쪽을 기준으로 하여 유사도를 아래와 같이 계산.\n",
    "두 리스트에서 일치하는 단어가 12개였고\n",
    "예를 들어 2번째 리스트 길이가 25라면,\n",
    "12/25 = 0.5 --> 50% 유사하다\n"
   ]
  },
  {
   "cell_type": "code",
   "execution_count": 5,
   "metadata": {},
   "outputs": [
    {
     "name": "stdout",
     "output_type": "stream",
     "text": [
      "\n",
      "\n",
      "\n",
      "\n",
      "0 13 ('오', '늘') ('오', '늘') 표절 의심\n",
      "3 0 ('멀', '티') ('멀', '티') 표절 의심\n",
      "4 1 ('티', '캠') ('티', '캠') 표절 의심\n",
      "5 2 ('캠', '퍼') ('캠', '퍼') 표절 의심\n",
      "6 3 ('퍼', '스') ('퍼', '스') 표절 의심\n",
      "7 4 ('스', '에') ('스', '에') 표절 의심\n",
      "8 5 ('에', '서') ('에', '서') 표절 의심\n",
      "9 6 ('서', ' ') ('서', ' ') 표절 의심\n",
      "10 23 (' ', '너') (' ', '너') 표절 의심\n",
      "11 24 ('너', '무') ('너', '무') 표절 의심\n",
      "12 25 ('무', ' ') ('무', ' ') 표절 의심\n",
      "13 26 (' ', '쉬') (' ', '쉬') 표절 의심\n",
      "16 16 (' ', '프') (' ', '프') 표절 의심\n",
      "17 17 ('프', '로') ('프', '로') 표절 의심\n",
      "18 18 ('로', '그') ('로', '그') 표절 의심\n",
      "19 19 ('그', '래') ('그', '래') 표절 의심\n",
      "20 20 ('래', '밍') ('래', '밍') 표절 의심\n",
      "23 7 (' ', '공') (' ', '공') 표절 의심\n",
      "24 8 ('공', '부') ('공', '부') 표절 의심\n",
      "25 9 ('부', '했') ('부', '했') 표절 의심\n",
      "유사도=> 0.6666666666666666 "
     ]
    }
   ],
   "source": [
    "sen1 = \"오늘 멀티캠퍼스에서 너무 쉬운 프로그래밍을 공부했다\" \n",
    "sen2 = \"멀티캠퍼스에서 공부했던 오늘의 프로그래밍은 너무 쉬웠다\"\n",
    "A = list(range(len(sen1)))\n",
    "B = list(range(len(sen2)))\n",
    "\n",
    "for i in range(len(sen1) -1 ):\n",
    "    #print(sen1[i],sen1[i+1],sep='',end= \" \")\n",
    "    A[i]=(sen1[i],sen1[i+1])\n",
    "print('\\n')\n",
    "for i in range(len(sen2) -1 ):\n",
    "    \n",
    "    #print(sen2[i],sen2[i+1],sep='',end= \" \")\n",
    "    B[i]=(sen2[i],sen2[i+1])\n",
    "print('\\n')\n",
    "\n",
    "su = 0\n",
    "Fa =0\n",
    "for i in range(len(A)-1):\n",
    "    for j in range(len(B)-1):\n",
    "        if A[i]==B[j]:\n",
    "            print(i,j,A[i],B[j],end=\" \")        \n",
    "            Fa+=1\n",
    "            print('표절 의심') \n",
    "\n",
    "if len(A)>len(B):     \n",
    "    print(\"유사도=>\", Fa/len(A),end=\" \")\n",
    "elif len(B)>len(A):\n",
    "    print(\"유사도=>\", Fa/len(B),end=\" \")\n",
    "\n"
   ]
  },
  {
   "cell_type": "code",
   "execution_count": 6,
   "metadata": {},
   "outputs": [
    {
     "name": "stdout",
     "output_type": "stream",
     "text": [
      "\n",
      "\n",
      "\n",
      "\n",
      "3 0 ('멀', '티', '캠') ('멀', '티', '캠') 표절 의심\n",
      "4 1 ('티', '캠', '퍼') ('티', '캠', '퍼') 표절 의심\n",
      "5 2 ('캠', '퍼', '스') ('캠', '퍼', '스') 표절 의심\n",
      "6 3 ('퍼', '스', '에') ('퍼', '스', '에') 표절 의심\n",
      "7 4 ('스', '에', '서') ('스', '에', '서') 표절 의심\n",
      "8 5 ('에', '서', ' ') ('에', '서', ' ') 표절 의심\n",
      "10 23 (' ', '너', '무') (' ', '너', '무') 표절 의심\n",
      "11 24 ('너', '무', ' ') ('너', '무', ' ') 표절 의심\n",
      "12 25 ('무', ' ', '쉬') ('무', ' ', '쉬') 표절 의심\n",
      "16 16 (' ', '프', '로') (' ', '프', '로') 표절 의심\n",
      "17 17 ('프', '로', '그') ('프', '로', '그') 표절 의심\n",
      "18 18 ('로', '그', '래') ('로', '그', '래') 표절 의심\n",
      "19 19 ('그', '래', '밍') ('그', '래', '밍') 표절 의심\n",
      "23 7 (' ', '공', '부') (' ', '공', '부') 표절 의심\n",
      "24 8 ('공', '부', '했') ('공', '부', '했') 표절 의심\n",
      "유사도=> 0.5 "
     ]
    }
   ],
   "source": [
    "for i in range(len(sen1) -2 ):\n",
    "    #print(sen1[i],sen1[i+1],sep='',end= \" \")\n",
    "    A[i]=(sen1[i],sen1[i+1],sen1[i+2])\n",
    "print('\\n')\n",
    "for i in range(len(sen2) -2 ):\n",
    "    #print(sen2[i],sen2[i+1],sep='',end= \" \")\n",
    "    B[i]=(sen2[i],sen2[i+1],sen2[i+2])\n",
    "print('\\n')\n",
    "\n",
    "su = 0\n",
    "Fa =0\n",
    "for i in range(len(A)-1):\n",
    "    for j in range(len(B)-1):\n",
    "        if A[i]==B[j]:\n",
    "            print(i,j,A[i],B[j],end=\" \")        \n",
    "            Fa+=1\n",
    "            print('표절 의심') \n",
    "\n",
    "if len(A)>len(B):     \n",
    "    print(\"유사도=>\", Fa/len(A),end=\" \")\n",
    "elif len(B)>len(A):\n",
    "    print(\"유사도=>\", Fa/len(B),end=\" \")"
   ]
  },
  {
   "cell_type": "markdown",
   "metadata": {},
   "source": [
    "6. 중복검출"
   ]
  },
  {
   "cell_type": "code",
   "execution_count": 7,
   "metadata": {},
   "outputs": [
    {
     "name": "stdout",
     "output_type": "stream",
     "text": [
      "입력하라: 0123456789\n",
      "True\n",
      "입력하라: 01234\n",
      "\n",
      "총 10개, 0~9까지 1번씩 입력하시오:\n",
      "False\n",
      "입력하라: 01234567890\n",
      "False\n",
      "입력하라: 6789012345\n",
      "True\n",
      "입력하라: 012322456789\n",
      "False\n"
     ]
    }
   ],
   "source": [
    "def TF(s):    \n",
    "    count=0 #중복 판별 변수\n",
    "    digit = s #입력 list의 값을 그대로 넣고, 반복문을 통해, 기존 리스트 요소 하나를 기준으로 digit 리스트 비교 count\n",
    "    result = True\n",
    "    if len(s)<10: #입력길이 10이상 되도록\n",
    "        result = False\n",
    "        print(\"\\n총 10개, 0~9까지 1번씩 입력하시오:\")\n",
    "    else:\n",
    "        #print(\"pass length\")\n",
    "        for i in range(len(s)):\n",
    "            if count <2: #비교 카운트 2 아래, 즉 중복이 없는 경우 다음 진행위해 카운트 0으로 초기화\n",
    "                count=0\n",
    "            elif count >=2: # 카운트 2이상 즉 중복 존재, 즉시 break\n",
    "                result = False\n",
    "                break\n",
    "            if result==True:\n",
    "                for j in range(len(s)):\n",
    "                    \n",
    "                    if s[i]==digit[j]: #비교하며 count 증가\n",
    "                        count+=1\n",
    "                    if j>len(s): #list out of range 해결위해 인덱스 처음으로 초기화\n",
    "                        j=0\n",
    "            \n",
    "            elif  result== False: \n",
    "                break\n",
    "    print(result)\n",
    "        \n",
    "i=0\n",
    "while i < 5:\n",
    "    s = list(input(\"입력하라: \"))\n",
    "    TF(s)\n",
    "    i+=1\n",
    "\n",
    "        "
   ]
  },
  {
   "cell_type": "markdown",
   "metadata": {},
   "source": [
    "7. 입사 문제 (어려움)"
   ]
  },
  {
   "cell_type": "code",
   "execution_count": 8,
   "metadata": {},
   "outputs": [
    {
     "name": "stdout",
     "output_type": "stream",
     "text": [
      "...!@bat#*..y.abcdefghijklm\n",
      "['-', '.', '0', '1', '2', '3', '4', '5', '6', '7', '8', '9', 'A', 'B', 'C', 'D', 'E', 'F', 'G', 'H', 'I', 'J', 'K', 'L', 'M', 'N', 'O', 'P', 'Q', 'R', 'S', 'T', 'U', 'V', 'W', 'X', 'Y', 'Z', '_', 'a', 'b', 'c', 'd', 'e', 'f', 'g', 'h', 'i', 'j', 'k', 'l', 'm', 'n', 'o', 'p', 'q', 'r', 's', 't', 'u', 'v', 'w', 'x', 'y', 'z'] ['!']\n",
      "['!', '@']\n",
      "['!', '@', '#']\n",
      "['!', '@', '#', '*']\n",
      ". . . b a t . . y . a b c d e f g h i j k l m\n"
     ]
    }
   ],
   "source": [
    "#ID = input(\"생성할 ID를 입력하세요: \"\n",
    "ID = '...!@BaT#*..y.abcdefghijklm'\n",
    "#1단계 new_id의 모든 대문자를 대응되는 소문자로 치환합니다.\n",
    "ID = ID.lower()\n",
    "print(ID)\n",
    "ID = list(ID)\n",
    "#---------------------------------------\n",
    "R = []\n",
    "for i in range(45,123):\n",
    "   \n",
    "    if i == 47:\n",
    "        continue\n",
    "    elif i in range(58,65):#>57  i< 65:\n",
    "        continue\n",
    "    elif i in range(91,97):\n",
    "        if i ==95:\n",
    "            R.append(chr(i))\n",
    "        continue\n",
    "    elif i:\n",
    "        R.append(chr(i))\n",
    "print(R, end=\" \")\n",
    "#---------------------------------------\n",
    "#2단계 new_id에서 알파벳 소문자, 숫자, 빼기(-), 밑줄(_), 마침표(.)를 제외한 모든 문자를 제거합니다.\n",
    "rm=[]\n",
    "for i in range(len(ID)):\n",
    "    if ID[i] not in R:\n",
    "        rm.append(ID[i])\n",
    "        print(rm)\n",
    "ID = [x for x in ID if x not in rm]\n",
    "print(*ID)"
   ]
  },
  {
   "cell_type": "code",
   "execution_count": 9,
   "metadata": {},
   "outputs": [
    {
     "name": "stdout",
     "output_type": "stream",
     "text": [
      "생성할 아이디를 입력하시오 : ...@BaT#*..y.abcdefghijklm\n",
      "입력하신 아이디 :  ...@BaT#*..y.abcdefghijklm\n",
      "1단계 new_id의 모든 대문자를 대응되는 소문자로 치환합니다.\n",
      " . . . @ b a t # * . . y . a b c d e f g h i j k l m\n",
      "['-', '.', '0', '1', '2', '3', '4', '5', '6', '7', '8', '9', 'A', 'B', 'C', 'D', 'E', 'F', 'G', 'H', 'I', 'J', 'K', 'L', 'M', 'N', 'O', 'P', 'Q', 'R', 'S', 'T', 'U', 'V', 'W', 'X', 'Y', 'Z', '_', 'a', 'b', 'c', 'd', 'e', 'f', 'g', 'h', 'i', 'j', 'k', 'l', 'm', 'n', 'o', 'p', 'q', 'r', 's', 't', 'u', 'v', 'w', 'x', 'y', 'z'] \n",
      "2단계 new_id에서 알파벳 소문자, 숫자, 빼기(-), 밑줄(_), 마침표(.)를 제외한 모든 문자를 제거합니다.\n",
      "\n",
      ". . . b a t . . y . a b c d e f g h i j k l m\n",
      "3단계 ‘…’와 ‘..’ 가 ‘.’로 바뀌었습니다.\n",
      " . b a t . y . a b c d e f g h i j k l m\n",
      "4단계 new_id에서 마침표(.)가 처음이나 끝에 위치한다면 제거합니다.\n",
      "\n",
      "b a t . y . a b c d e f g h i j k l m\n",
      "5단계 new_id가 빈 문자열이라면, new_id에 \"a\"를 대입합니다.\n",
      "b a t . y . a b c d e f g h i j k l m\n",
      "6단계 new_id의 길이가 16자 이상이면, new_id의 첫 15개의 문자를 제외한 나머지 문자들을 모두 제거합니다.\n",
      "만약 제거 후 마침표(.)가 new_id의 끝에 위치한다면 끝에 위치한 마침표(.) 문자를 제거합니다.\n",
      "\n",
      "아이디의 길이가 16자 이상이므로, 처음 15자를 제외한 나머지 문자들이 제거되었습니다.\n",
      "\n",
      "b a t . y . a b c d e f g h i\n",
      "7단계 new_id의 길이가 2자 이하라면, new_id의 마지막 문자를 new_id의 길이가 3이 될 때까지 반복해서 끝에 붙입니다.\n",
      "아이디의 길이가 2자 이하가 아니므로 변화가 없습니다.\n",
      "b a t . y . a b c d e f g h i\n",
      "\n",
      "따라서 신규 유저가 입력한 new_id가 “...@BaT#*..y.abcdefghijklm”일 때, 네오의 프로그램이 추천하는 새로운 아이디는 “bat.y.abcdefghi” 입니다.\n"
     ]
    }
   ],
   "source": [
    "\n",
    "\n",
    "def generator_id(ID):\n",
    "    print(\"입력하신 아이디 : \",ID)\n",
    "    #1단계 new_id의 모든 대문자를 대응되는 소문자로 치환합니다.\n",
    "    ID = ID.lower()\n",
    "    ID = list(ID)\n",
    "    print(\"1단계 new_id의 모든 대문자를 대응되는 소문자로 치환합니다.\\n\",*ID)\n",
    "\n",
    "    #---------------------------------------\n",
    "    R = []\n",
    "    for i in range(45,123):\n",
    "\n",
    "        if i == 47:\n",
    "            continue\n",
    "        elif i in range(58,65):#>57  i< 65:\n",
    "            continue\n",
    "        elif i in range(91,97):\n",
    "            if i ==95:\n",
    "                R.append(chr(i))\n",
    "            continue\n",
    "        elif i:\n",
    "            R.append(chr(i))\n",
    "    print(R, end=\" \")\n",
    "#---------------------------------------\n",
    "    rm=[]\n",
    "    for i in range(len(ID)):\n",
    "        if ID[i] not in R:\n",
    "            rm.append(ID[i])\n",
    "    ID = [x for x in ID if x not in rm]\n",
    "    print(\"\\n2단계 new_id에서 알파벳 소문자, 숫자, 빼기(-), 밑줄(_), 마침표(.)를 제외한 모든 문자를 제거합니다.\\n\")\n",
    "    print(*ID)\n",
    "\n",
    "    #3단계 ‘…’와 ‘..’ 가 ‘.’로 바뀌었습니다.\n",
    "    new_ID = []\n",
    "    for i,v in enumerate(ID):\n",
    "        if i<len(ID)-1 and ID[i] != ID[i+1]:\n",
    "            new_ID.append(ID[i])        \n",
    "        elif i==len(ID)-1:\n",
    "            new_ID.append(ID[-1])\n",
    "    print(\"3단계 ‘…’와 ‘..’ 가 ‘.’로 바뀌었습니다.\\n\",*new_ID)\n",
    "    ID = new_ID\n",
    "\n",
    "    #4단계 new_id에서 마침표(.)가 처음이나 끝에 위치한다면 제거합니다.\n",
    "    print(\"4단계 new_id에서 마침표(.)가 처음이나 끝에 위치한다면 제거합니다.\\n\")\n",
    "    for i in range(len(ID)):\n",
    "        if '.'==ID[0] or '.'==ID[-1]:\n",
    "            del ID[i]\n",
    "    print(*ID)\n",
    "    print(\"5단계 new_id가 빈 문자열이라면, new_id에 \\\"a\\\"를 대입합니다.\")\n",
    "    for i in range(len(ID)):\n",
    "        if ' '==ID[i]:\n",
    "            ID[i]='a'\n",
    "            print(\"공백 => a로 변환\\n\")\n",
    "    print(*ID)\n",
    "    \n",
    "    print(\"6단계 new_id의 길이가 16자 이상이면, new_id의 첫 15개의 문자를 제외한 나머지 문자들을 모두 제거합니다.\")\n",
    "    print(\"만약 제거 후 마침표(.)가 new_id의 끝에 위치한다면 끝에 위치한 마침표(.) 문자를 제거합니다.\")\n",
    "    \n",
    "    for i in range(len(ID)):\n",
    "        if len(ID)>15:\n",
    "            print(\"\\n아이디의 길이가 16자 이상이므로, 처음 15자를 제외한 나머지 문자들이 제거되었습니다.\\n\")\n",
    "            del ID[15:]\n",
    "        if ID[-1] =='.':\n",
    "            del ID[-1]\n",
    "        elif len(ID)<15:\n",
    "            print(\"아이디의 길이가 16자 이상이 아니므로, 삭제되지 않습니다.\")\n",
    "    print(*ID)\n",
    "\n",
    "\n",
    "    print(\"7단계 new_id의 길이가 2자 이하라면, new_id의 마지막 문자를 new_id의 길이가 3이 될 때까지 반복해서 끝에 붙입니다.\")\n",
    "    if len(ID)<2:\n",
    "        ID.appen(ID[-1])\n",
    "        ID.appen(ID[-1])\n",
    "        ID.appen(ID[-1])\n",
    "    \n",
    "    else:\n",
    "        print(\"아이디의 길이가 2자 이하가 아니므로 변화가 없습니다.\")\n",
    "    print(*ID)\n",
    "\n",
    "    ID = \"\".join(ID)\n",
    "    print(\"\\n따라서 신규 유저가 입력한 new_id가 “%s”일 때, 네오의 프로그램이 추천하는 새로운 아이디는 “%s” 입니다.\"%(origin,ID))\n",
    "\n",
    "\n",
    "ID = input(\"생성할 아이디를 입력하시오 : \")\n",
    "origin = ID\n",
    "generator_id(ID)\n",
    "#...@BaT#*..y.abcdefghijklm"
   ]
  },
  {
   "cell_type": "code",
   "execution_count": null,
   "metadata": {},
   "outputs": [],
   "source": []
  }
 ],
 "metadata": {
  "kernelspec": {
   "display_name": "Python 3",
   "language": "python",
   "name": "python3"
  },
  "language_info": {
   "codemirror_mode": {
    "name": "ipython",
    "version": 3
   },
   "file_extension": ".py",
   "mimetype": "text/x-python",
   "name": "python",
   "nbconvert_exporter": "python",
   "pygments_lexer": "ipython3",
   "version": "3.8.5"
  }
 },
 "nbformat": 4,
 "nbformat_minor": 4
}
