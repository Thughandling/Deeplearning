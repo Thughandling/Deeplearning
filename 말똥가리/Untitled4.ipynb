{
 "cells": [
  {
   "cell_type": "raw",
   "metadata": {},
   "source": [
    "1.주어진 문자열(공백 없이 쉼표로 구분되어 있음)을 가지고 아래 문제에 대한 프로그램을 작성하세요."
   ]
  },
  {
   "cell_type": "code",
   "execution_count": 1,
   "metadata": {},
   "outputs": [
    {
     "name": "stdout",
     "output_type": "stream",
     "text": [
      "1)김씨와 이씨는 각각 몇 명 인가요? 8\n",
      "2)\"이재영\"이란 이름이 몇 번 반복되나요? 3\n",
      "3)중복을 제거한 이름을 출력하세요.\n",
      " ['권종표', '박영서', '강상희', '김지완', '김재성', '전경헌', '이성연', '송정환', '이재영', '최승혁', '이유덕', '박민호']\n",
      "4)중복을 제거한 이름을 오름차순으로 정렬하여 출력하세요.\n",
      " ['강상희', '권종표', '김재성', '김지완', '박민호', '박영서', '송정환', '이성연', '이유덕', '이재영', '전경헌', '최승혁']\n"
     ]
    }
   ],
   "source": [
    "name='이유덕,이재영,권종표,이재영,박민호,강상희,이재영,김지완,최승혁,이성연,박영서,박민호,전경헌,송정환,김재성,이유덕,전경헌'\n",
    "n = name.split(',')\n",
    "first = 0\n",
    "second = 0\n",
    "for i in range(len(n)):\n",
    "    #print(n[i])\n",
    "    if n[i][0] == '이' or n[i][0] == '김':\n",
    "        first+=1\n",
    "    if n[i] == '이재영':\n",
    "        second+=1\n",
    "    \n",
    "print(\"1)김씨와 이씨는 각각 몇 명 인가요?\",first) # 김 이 명수\n",
    "print('2)\\\"이재영\\\"이란 이름이 몇 번 반복되나요?',second)\n",
    "new_n = list(set(n))\n",
    "print('3)중복을 제거한 이름을 출력하세요.\\n',new_n)\n",
    "new_n.sort()\n",
    "print('4)중복을 제거한 이름을 오름차순으로 정렬하여 출력하세요.\\n',new_n)\n",
    "    "
   ]
  },
  {
   "cell_type": "raw",
   "metadata": {},
   "source": [
    "2.\n",
    "A씨는 두 개의 버전을 비교하는 프로그램을 작성해야 한다.\n",
    "버전은 다음처럼 \".\" 으로 구분된 문자열이다.\n",
    "버전 예) 1.0.0, 1.0.23, 1.1\n",
    "두 개의 버전을 비교하는 프로그램을 작성하시오."
   ]
  },
  {
   "cell_type": "code",
   "execution_count": 2,
   "metadata": {},
   "outputs": [
    {
     "name": "stdout",
     "output_type": "stream",
     "text": [
      "A 버전을 입력하시오0.0.2\n",
      "B 버전을 입력하시오0.0.1\n",
      "0.0.2 > 0.0.1\n",
      "A 버전을 입력하시오1.0.10\n",
      "B 버전을 입력하시오1.0.3\n",
      "1.0.10 > 1.0.3\n",
      "A 버전을 입력하시오1.2.0\n",
      "B 버전을 입력하시오1.1.99\n",
      "1.2.0 > 1.1.99\n",
      "A 버전을 입력하시오1.1\n",
      "B 버전을 입력하시오1.0.1\n",
      "1.1 > 1.0.1\n",
      "A 버전을 입력하시오qq\n"
     ]
    }
   ],
   "source": [
    "import re\n",
    "def compare_(a,b):\n",
    "    A =a\n",
    "    B =b\n",
    "    a = a.split('.')\n",
    "    b = b.split('.')\n",
    "\n",
    "    if len(a)>len(b):\n",
    "        s=a\n",
    "    else:\n",
    "        s=b\n",
    "        \n",
    "\n",
    "    A_c = 0\n",
    "    B_c = 0\n",
    "\n",
    "    for i in range(len(s)):\n",
    "        if a[i] != '.' or b[i]!='.':\n",
    "            \n",
    "            q = a[i]\n",
    "            w = b[i]\n",
    "            q = int(q)\n",
    "            w = int(w)\n",
    "            if q > w :\n",
    "                print(A,'>',B)\n",
    "                break\n",
    "            elif q < w:\n",
    "                print(A,'<',B)\n",
    "                break\n",
    "            else:\n",
    "                pass\n",
    "            \n",
    "\n",
    "        \n",
    "\n",
    "i = 0\n",
    "while True:\n",
    "    a = input(\"A 버전을 입력하시오\")\n",
    "    if a == 'qq':\n",
    "        break\n",
    "    b = input(\"B 버전을 입력하시오\")\n",
    "    compare_(a,b)\n",
    "    i+=1"
   ]
  },
  {
   "cell_type": "raw",
   "metadata": {},
   "source": [
    "3.\n",
    "텍스트가 입력으로 주어질 때, 단어의 개수를 세는 프로그램을 작성한다.\n",
    "\"문자 세기\"와 \"단어 세기\"는 프로그래밍 입문에 성공했는지를 가늠하는 문제라고 할 수 있습니다.\n"
   ]
  },
  {
   "cell_type": "code",
   "execution_count": 3,
   "metadata": {},
   "outputs": [
    {
     "name": "stdout",
     "output_type": "stream",
     "text": [
      "<class 'str'>\n"
     ]
    }
   ],
   "source": [
    "with open('exam.txt','r') as f:\n",
    "    text = f.read()\n",
    "    print(type(text))\n"
   ]
  },
  {
   "cell_type": "code",
   "execution_count": 6,
   "metadata": {},
   "outputs": [
    {
     "name": "stdout",
     "output_type": "stream",
     "text": [
      "in 12\n",
      "the 10\n",
      "Bolikango 5\n",
      "a 4\n",
      "of 4\n",
      "and 3\n",
      "to 3\n",
      "his 3\n",
      "became 2\n",
      "government 2\n"
     ]
    }
   ],
   "source": [
    "#print(text)\n",
    "li = re.findall('[^\\.\\, ]\\w*',text)\n",
    "checkbox = {}\n",
    " \n",
    "for i in li:\n",
    "    try: checkbox[i] += 1\n",
    "    except: checkbox[i] =1\n",
    "        \n",
    "sorted_ = sorted(checkbox.items(), key=lambda x: x[1], reverse=True)\n",
    "\n",
    "for  i in range(10):\n",
    "    print(sorted_[i][0],sorted_[i][1])\n",
    "\n",
    "\n",
    "#for k,v in checkbox.items():\n",
    " #   print(k,v)\n"
   ]
  }
 ],
 "metadata": {
  "kernelspec": {
   "display_name": "Python 3",
   "language": "python",
   "name": "python3"
  },
  "language_info": {
   "codemirror_mode": {
    "name": "ipython",
    "version": 3
   },
   "file_extension": ".py",
   "mimetype": "text/x-python",
   "name": "python",
   "nbconvert_exporter": "python",
   "pygments_lexer": "ipython3",
   "version": "3.8.5"
  }
 },
 "nbformat": 4,
 "nbformat_minor": 4
}
