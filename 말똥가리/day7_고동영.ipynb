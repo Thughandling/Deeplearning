{
 "cells": [
  {
   "cell_type": "markdown",
   "metadata": {},
   "source": [
    "주어진 자연수가 홀 짝 구분\n",
    "함수 만들고 반환\n",
    "is_odd"
   ]
  },
  {
   "cell_type": "code",
   "execution_count": 1,
   "metadata": {},
   "outputs": [
    {
     "name": "stdout",
     "output_type": "stream",
     "text": [
      "짝수 2\n"
     ]
    }
   ],
   "source": [
    "def is_odd(num):\n",
    "    if num %2 ==0:\n",
    "        print (\"짝수\",num )\n",
    "    else:\n",
    "        print('홀수',num)\n",
    "is_odd(2)"
   ]
  },
  {
   "cell_type": "markdown",
   "metadata": {},
   "source": [
    "2. 다음은 \"test.txt\"라는 파일에 \"Life is too short\" 문자열을 저장한 후, 다시 그 파일을 읽어서 출력하는 프로그램이다."
   ]
  },
  {
   "cell_type": "code",
   "execution_count": 114,
   "metadata": {},
   "outputs": [
    {
     "name": "stdout",
     "output_type": "stream",
     "text": [
      "Life is too short\n"
     ]
    }
   ],
   "source": [
    "with open(\"test.txt\",'w') as f:\n",
    "    f = open(\"test.txt\",\"w\")\n",
    "    f.write(\"Life is too short\")\n",
    "    \n",
    "with open(\"test.txt\",\"r\") as f:\n",
    "    Life=f.read()\n",
    "    print(Life)"
   ]
  },
  {
   "cell_type": "markdown",
   "metadata": {},
   "source": [
    "3. 다음과 같은 내용을 지닌 파일 test.txt가 있다. \n",
    "이 파일의 내용 중 \"Java\"라는 문자열을 \"Python\"으로 바꾸어서 저장해 보자."
   ]
  },
  {
   "cell_type": "code",
   "execution_count": 115,
   "metadata": {
    "scrolled": true
   },
   "outputs": [
    {
     "name": "stdout",
     "output_type": "stream",
     "text": [
      "Life is too short\n",
      "you need Java\n"
     ]
    }
   ],
   "source": [
    "with open(\"test.txt\",'a') as f:\n",
    "    f.write(\"\\nyou need Java\")  \n",
    "with open(\"test.txt\",\"r\") as f:\n",
    "    Life=f.read()\n",
    "    print(Life)"
   ]
  },
  {
   "cell_type": "code",
   "execution_count": 123,
   "metadata": {
    "scrolled": true
   },
   "outputs": [
    {
     "name": "stdout",
     "output_type": "stream",
     "text": [
      "you need Python\n"
     ]
    }
   ],
   "source": [
    "with open(\"test.txt\",'r') as f:\n",
    "    lines = f.readlines()\n",
    "    for i in lines:\n",
    "        if 'Java' in i:\n",
    "            i= i.replace(\"Java\",\"Python\")\n",
    "        \n",
    "    print(i)"
   ]
  },
  {
   "cell_type": "code",
   "execution_count": null,
   "metadata": {},
   "outputs": [],
   "source": []
  },
  {
   "cell_type": "markdown",
   "metadata": {},
   "source": [
    "4-5. \"비트코인\" 문자열을 화면에 출력하는 print_coin() 함수를 정의하라."
   ]
  },
  {
   "cell_type": "code",
   "execution_count": 5,
   "metadata": {},
   "outputs": [
    {
     "name": "stdout",
     "output_type": "stream",
     "text": [
      "비트코인 "
     ]
    }
   ],
   "source": [
    "def print_coin(s):\n",
    "    print(s, end=\" \")\n",
    "a = \"비트코인\"\n",
    "print_coin(a)\n"
   ]
  },
  {
   "cell_type": "markdown",
   "metadata": {},
   "source": [
    "6. 4에서 정의한 print_coin 함수를 100번호출하라."
   ]
  },
  {
   "cell_type": "code",
   "execution_count": 6,
   "metadata": {},
   "outputs": [
    {
     "name": "stdout",
     "output_type": "stream",
     "text": [
      "비트코인 1\n",
      "비트코인 2\n",
      "비트코인 3\n",
      "비트코인 4\n",
      "비트코인 5\n",
      "비트코인 6\n",
      "비트코인 7\n",
      "비트코인 8\n",
      "비트코인 9\n",
      "비트코인 10\n",
      "비트코인 11\n",
      "비트코인 12\n",
      "비트코인 13\n",
      "비트코인 14\n",
      "비트코인 15\n",
      "비트코인 16\n",
      "비트코인 17\n",
      "비트코인 18\n",
      "비트코인 19\n",
      "비트코인 20\n",
      "비트코인 21\n",
      "비트코인 22\n",
      "비트코인 23\n",
      "비트코인 24\n",
      "비트코인 25\n",
      "비트코인 26\n",
      "비트코인 27\n",
      "비트코인 28\n",
      "비트코인 29\n",
      "비트코인 30\n",
      "비트코인 31\n",
      "비트코인 32\n",
      "비트코인 33\n",
      "비트코인 34\n",
      "비트코인 35\n",
      "비트코인 36\n",
      "비트코인 37\n",
      "비트코인 38\n",
      "비트코인 39\n",
      "비트코인 40\n",
      "비트코인 41\n",
      "비트코인 42\n",
      "비트코인 43\n",
      "비트코인 44\n",
      "비트코인 45\n",
      "비트코인 46\n",
      "비트코인 47\n",
      "비트코인 48\n",
      "비트코인 49\n",
      "비트코인 50\n",
      "비트코인 51\n",
      "비트코인 52\n",
      "비트코인 53\n",
      "비트코인 54\n",
      "비트코인 55\n",
      "비트코인 56\n",
      "비트코인 57\n",
      "비트코인 58\n",
      "비트코인 59\n",
      "비트코인 60\n",
      "비트코인 61\n",
      "비트코인 62\n",
      "비트코인 63\n",
      "비트코인 64\n",
      "비트코인 65\n",
      "비트코인 66\n",
      "비트코인 67\n",
      "비트코인 68\n",
      "비트코인 69\n",
      "비트코인 70\n",
      "비트코인 71\n",
      "비트코인 72\n",
      "비트코인 73\n",
      "비트코인 74\n",
      "비트코인 75\n",
      "비트코인 76\n",
      "비트코인 77\n",
      "비트코인 78\n",
      "비트코인 79\n",
      "비트코인 80\n",
      "비트코인 81\n",
      "비트코인 82\n",
      "비트코인 83\n",
      "비트코인 84\n",
      "비트코인 85\n",
      "비트코인 86\n",
      "비트코인 87\n",
      "비트코인 88\n",
      "비트코인 89\n",
      "비트코인 90\n",
      "비트코인 91\n",
      "비트코인 92\n",
      "비트코인 93\n",
      "비트코인 94\n",
      "비트코인 95\n",
      "비트코인 96\n",
      "비트코인 97\n",
      "비트코인 98\n",
      "비트코인 99\n",
      "비트코인 100\n"
     ]
    }
   ],
   "source": [
    "for i in range(1,101):\n",
    "    print_coin(a), print(i)"
   ]
  },
  {
   "cell_type": "markdown",
   "metadata": {},
   "source": [
    "7. \"비트코인\" 문자열을 100번 화면에 출력하는 print_coins() 함수를 정의하라."
   ]
  },
  {
   "cell_type": "code",
   "execution_count": 7,
   "metadata": {},
   "outputs": [
    {
     "name": "stdout",
     "output_type": "stream",
     "text": [
      "비트코인 0\n",
      "비트코인 1\n",
      "비트코인 2\n",
      "비트코인 3\n",
      "비트코인 4\n",
      "비트코인 5\n",
      "비트코인 6\n",
      "비트코인 7\n",
      "비트코인 8\n",
      "비트코인 9\n",
      "비트코인 10\n",
      "비트코인 11\n",
      "비트코인 12\n",
      "비트코인 13\n",
      "비트코인 14\n",
      "비트코인 15\n",
      "비트코인 16\n",
      "비트코인 17\n",
      "비트코인 18\n",
      "비트코인 19\n",
      "비트코인 20\n",
      "비트코인 21\n",
      "비트코인 22\n",
      "비트코인 23\n",
      "비트코인 24\n",
      "비트코인 25\n",
      "비트코인 26\n",
      "비트코인 27\n",
      "비트코인 28\n",
      "비트코인 29\n",
      "비트코인 30\n",
      "비트코인 31\n",
      "비트코인 32\n",
      "비트코인 33\n",
      "비트코인 34\n",
      "비트코인 35\n",
      "비트코인 36\n",
      "비트코인 37\n",
      "비트코인 38\n",
      "비트코인 39\n",
      "비트코인 40\n",
      "비트코인 41\n",
      "비트코인 42\n",
      "비트코인 43\n",
      "비트코인 44\n",
      "비트코인 45\n",
      "비트코인 46\n",
      "비트코인 47\n",
      "비트코인 48\n",
      "비트코인 49\n",
      "비트코인 50\n",
      "비트코인 51\n",
      "비트코인 52\n",
      "비트코인 53\n",
      "비트코인 54\n",
      "비트코인 55\n",
      "비트코인 56\n",
      "비트코인 57\n",
      "비트코인 58\n",
      "비트코인 59\n",
      "비트코인 60\n",
      "비트코인 61\n",
      "비트코인 62\n",
      "비트코인 63\n",
      "비트코인 64\n",
      "비트코인 65\n",
      "비트코인 66\n",
      "비트코인 67\n",
      "비트코인 68\n",
      "비트코인 69\n",
      "비트코인 70\n",
      "비트코인 71\n",
      "비트코인 72\n",
      "비트코인 73\n",
      "비트코인 74\n",
      "비트코인 75\n",
      "비트코인 76\n",
      "비트코인 77\n",
      "비트코인 78\n",
      "비트코인 79\n",
      "비트코인 80\n",
      "비트코인 81\n",
      "비트코인 82\n",
      "비트코인 83\n",
      "비트코인 84\n",
      "비트코인 85\n",
      "비트코인 86\n",
      "비트코인 87\n",
      "비트코인 88\n",
      "비트코인 89\n",
      "비트코인 90\n",
      "비트코인 91\n",
      "비트코인 92\n",
      "비트코인 93\n",
      "비트코인 94\n",
      "비트코인 95\n",
      "비트코인 96\n",
      "비트코인 97\n",
      "비트코인 98\n",
      "비트코인 99\n"
     ]
    }
   ],
   "source": [
    "def print_coins():\n",
    "    for i in range(100):\n",
    "        print(a, i)\n",
    "print_coins()"
   ]
  },
  {
   "cell_type": "markdown",
   "metadata": {},
   "source": [
    "8. 하나의 문자를 입력받아 문자열 끝에 \":D\" 스마일 문자열을 이어 붙여 출력하는 \n",
    "print_with_smile 함수를 정의하라."
   ]
  },
  {
   "cell_type": "markdown",
   "metadata": {
    "scrolled": true
   },
   "source": [
    "##### scanf = input(\"문자를 입력 하시오:\")  \n",
    "\n",
    "def print_with_smile(s):\n",
    "    smile = s\n",
    "    d = \":D\"\n",
    "    print(smile+d)\n",
    "print_with_smile(scanf)\n"
   ]
  },
  {
   "cell_type": "markdown",
   "metadata": {},
   "source": [
    "현재 가격을 입력받아 상한가(20%)를 출력하는 print_coin() 함수를 정의하라."
   ]
  },
  {
   "cell_type": "code",
   "execution_count": 9,
   "metadata": {},
   "outputs": [],
   "source": [
    "li = [90,100,10,20,30,40,50,60,70,80]\n",
    "\n",
    "def print_upper_price(a):\n",
    "    a.sort()\n",
    "    high = -(int(len(a)*(1/5)))\n",
    "    print(a[high:])\n",
    "    "
   ]
  },
  {
   "cell_type": "code",
   "execution_count": 10,
   "metadata": {},
   "outputs": [
    {
     "name": "stdout",
     "output_type": "stream",
     "text": [
      "[90, 100]\n"
     ]
    }
   ],
   "source": [
    " print_upper_price(li)"
   ]
  },
  {
   "cell_type": "markdown",
   "metadata": {},
   "source": [
    "10. 하나의 리스트를 입력받아 짝수만 화면에 출력하는 print_even 함수를 정의하라."
   ]
  },
  {
   "cell_type": "code",
   "execution_count": 11,
   "metadata": {},
   "outputs": [
    {
     "name": "stdout",
     "output_type": "stream",
     "text": [
      "리스트 크기를 설정하시오: 10\n",
      "숫자를 입력하시오 : 3\n",
      "숫자를 입력하시오 : 7\n",
      "숫자를 입력하시오 : 4\n",
      "숫자를 입력하시오 : 756\n",
      "숫자를 입력하시오 : 987\n",
      "숫자를 입력하시오 : 324\n",
      "숫자를 입력하시오 : 56\n",
      "숫자를 입력하시오 : 234\n",
      "숫자를 입력하시오 : 589\n",
      "숫자를 입력하시오 : 123\n",
      "4 756 324 56 234 "
     ]
    }
   ],
   "source": [
    "def print_even(a):\n",
    "    \n",
    "    if a%2==0:\n",
    "        print(a, end=\" \")\n",
    "            \n",
    "count = int(input(\"리스트 크기를 설정하시오: \"))\n",
    "even = list(range(count))\n",
    "\n",
    "i=0\n",
    "\n",
    "while i<len(range(count)):\n",
    "    even[i]= int(input(\"숫자를 입력하시오 : \"))\n",
    "    i+=1\n",
    "\n",
    "for j in even:\n",
    "    print_even(j)\n",
    "\n",
    "    \n",
    "  \n",
    "    "
   ]
  },
  {
   "cell_type": "markdown",
   "metadata": {},
   "source": [
    "11. 딕셔너리의 key 값을 \n",
    "화면에 출력하는 print_keys 함수를 정의하라."
   ]
  },
  {
   "cell_type": "code",
   "execution_count": 12,
   "metadata": {},
   "outputs": [
    {
     "name": "stdout",
     "output_type": "stream",
     "text": [
      "name age addr bt "
     ]
    }
   ],
   "source": [
    "keys = {'name':'kim', 'age':30, 'addr':'seoul','bt':'AB'}\n",
    "\n",
    "def print_keys(**args):\n",
    "    for k,v in args.items():\n",
    "        print(k, end=\" \")\n",
    "        \n",
    "print_keys(**keys)"
   ]
  },
  {
   "cell_type": "markdown",
   "metadata": {},
   "source": [
    "12. 문자열과 한줄에 출력될 글자 수를 입력을 받아 한 줄에 입력된 글자 수만큼 출력하는 \n",
    "print_mxn(string) 함수를 작성하라."
   ]
  },
  {
   "cell_type": "code",
   "execution_count": 13,
   "metadata": {},
   "outputs": [
    {
     "name": "stdout",
     "output_type": "stream",
     "text": [
      "문자를 입력 하시오: Every body dance now!\n",
      "글자 수를 입력하시오: 5\n",
      "Every\n",
      " body\n",
      " danc\n",
      "e now\n",
      "!"
     ]
    }
   ],
   "source": [
    "def print_mxn(s, n):\n",
    "    count=0\n",
    "    for i,v in enumerate(s):\n",
    "        print(s[i],end=\"\")\n",
    "        count+=1\n",
    "        if count >=n:\n",
    "            print()\n",
    "            count = 0\n",
    "       \n",
    "\n",
    "scanf= input(\"문자를 입력 하시오: \")\n",
    "num = int(input(\"글자 수를 입력하시오: \"))\n",
    "print_mxn(scanf,num)"
   ]
  },
  {
   "cell_type": "markdown",
   "metadata": {},
   "source": [
    "13. 연봉을 입력받아 월급을 계산하는 calc_monthly_salary(annual_salary) 함수를 정의하라. \n",
    "회사는 연봉을 12개월로 나누어 분할 지급하며, 이 때 1원 미만은 버림한다."
   ]
  },
  {
   "cell_type": "code",
   "execution_count": 14,
   "metadata": {},
   "outputs": [
    {
     "name": "stdout",
     "output_type": "stream",
     "text": [
      "연봉을 입력하시오: 88000000\n"
     ]
    },
    {
     "data": {
      "text/plain": [
       "7333333"
      ]
     },
     "execution_count": 14,
     "metadata": {},
     "output_type": "execute_result"
    }
   ],
   "source": [
    "salary = int(input(\"연봉을 입력하시오: \"))\n",
    "\n",
    "def calc_monthly_salary(annual_salary):\n",
    "    return int(annual_salary/12)\n",
    "\n",
    "calc_monthly_salary(salary)"
   ]
  },
  {
   "cell_type": "markdown",
   "metadata": {},
   "source": [
    "14. 문자열 하나를 입력받아 인터넷 주소를 반환하는 make_url 함수를 정의하라.\n",
    "make_url(\"naver\") -> 출력 결과 => www.naver.com\n",
    "참고) www.(입력받은 문자열).com으로 끝나는 인터넷 주소로 가정하여 해결"
   ]
  },
  {
   "cell_type": "code",
   "execution_count": 15,
   "metadata": {},
   "outputs": [
    {
     "name": "stdout",
     "output_type": "stream",
     "text": [
      "문자를 입력하시오: Google\n",
      "www.Google.com\n"
     ]
    }
   ],
   "source": [
    "scanf = input(\"문자를 입력하시오: \")\n",
    "\n",
    "def make_url(s):\n",
    "    addr = \"www..com\"\n",
    "    f = addr[:4] + s + addr[4:]\n",
    "    print(f)\n",
    "make_url(scanf)"
   ]
  },
  {
   "cell_type": "markdown",
   "metadata": {},
   "source": [
    "15. 문자열을 입력받아 각 문자들로 구성된 리스트로 반환하는 make_list 함수를 정의하라.\n",
    "make_list (\"abcde\") 호출 -> 실행 결과 => [ 'a','b',...,'e]"
   ]
  },
  {
   "cell_type": "code",
   "execution_count": 16,
   "metadata": {},
   "outputs": [
    {
     "name": "stdout",
     "output_type": "stream",
     "text": [
      "문자를 입력하시오: DeepLearning\n",
      "['D', 'e', 'e', 'p', 'L', 'e', 'a', 'r', 'n', 'i', 'n', 'g']\n"
     ]
    }
   ],
   "source": [
    "scanf = input(\"문자를 입력하시오: \")\n",
    "\n",
    "def make_list(s):\n",
    "    s = list(s)\n",
    "    print(s)\n",
    "make_list(scanf)"
   ]
  },
  {
   "cell_type": "markdown",
   "metadata": {},
   "source": [
    "게임 기업 입사문제\n",
    "d(91) 9 +1 +91 = 101 => 91은 101의 제너레이터\n"
   ]
  },
  {
   "cell_type": "code",
   "execution_count": 66,
   "metadata": {
    "scrolled": true
   },
   "outputs": [
    {
     "name": "stdout",
     "output_type": "stream",
     "text": [
      "122295392\n"
     ]
    }
   ],
   "source": [
    "\n",
    "def generator():\n",
    "    origin = set(range(1, 50001))\n",
    "    gen = set()\n",
    "    sum = 0 \n",
    "    for i in range(1, 50001):       \n",
    "        for j in str(i):            \n",
    "            i += int(j)             \n",
    "        gen.add(i)       \n",
    "        \n",
    "    self_num = sorted(origin - gen)\n",
    "    for i in self_num:\n",
    "        sum+=i\n",
    "        #print(i)\n",
    "    print(sum)\n",
    "    \n",
    "generator() \n",
    "\n"
   ]
  }
 ],
 "metadata": {
  "kernelspec": {
   "display_name": "Python 3",
   "language": "python",
   "name": "python3"
  },
  "language_info": {
   "codemirror_mode": {
    "name": "ipython",
    "version": 3
   },
   "file_extension": ".py",
   "mimetype": "text/x-python",
   "name": "python",
   "nbconvert_exporter": "python",
   "pygments_lexer": "ipython3",
   "version": "3.8.5"
  }
 },
 "nbformat": 4,
 "nbformat_minor": 4
}
