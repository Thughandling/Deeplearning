{
 "cells": [
  {
   "cell_type": "code",
   "execution_count": 6,
   "metadata": {},
   "outputs": [],
   "source": [
    "f=open(\"test.txt\",\"w\")\n",
    "f.write(\"hello\")\n",
    "f.close()"
   ]
  },
  {
   "cell_type": "code",
   "execution_count": 9,
   "metadata": {},
   "outputs": [],
   "source": [
    "f=open(\"test.txt\",\"r\")\n",
    "s=f.read()\n"
   ]
  },
  {
   "cell_type": "code",
   "execution_count": 10,
   "metadata": {},
   "outputs": [
    {
     "name": "stdout",
     "output_type": "stream",
     "text": [
      "hello\n"
     ]
    }
   ],
   "source": [
    "print(s)"
   ]
  },
  {
   "cell_type": "code",
   "execution_count": 11,
   "metadata": {},
   "outputs": [],
   "source": [
    "f.close()"
   ]
  },
  {
   "cell_type": "code",
   "execution_count": 14,
   "metadata": {},
   "outputs": [],
   "source": [
    " with open(\"test.txt\",\"w\") as f:\n",
    "        for i in range(3):\n",
    "            f.write(\"%d hello world\\n\" %i)\n",
    "            \n",
    "        #f.write(\"hello world\")\n",
    "        #f.write(\"hello world\")\n",
    "        #f.write(\"hello world\")"
   ]
  },
  {
   "cell_type": "markdown",
   "metadata": {},
   "source": [
    "Format Function {0} + format(i+1)"
   ]
  },
  {
   "cell_type": "code",
   "execution_count": 19,
   "metadata": {},
   "outputs": [],
   "source": [
    " with open(\"test.txt\",\"w\") as f:\n",
    "        for i in range(3):\n",
    "            f.write(\"hello{1} world {0}\\n\".format(i+1,999))"
   ]
  },
  {
   "cell_type": "code",
   "execution_count": 20,
   "metadata": {},
   "outputs": [],
   "source": [
    "#pickle 모듈 : 객체를 파일로 저장"
   ]
  },
  {
   "cell_type": "markdown",
   "metadata": {},
   "source": [
    "객체? 클래스(붕어빵 기계)로 부터 파생된 실체(인스턴스, 붕어빵, 꽃게빵)\n",
    "\n",
    "객체라는 것은 하나의 동일한 클래스로부터 파생되는 것,\n",
    "붕어빵 기계에서 내용물혹은 굽는시간등을 다르게 해서 파생물을 다르게도 가능\n",
    "\n",
    "클래스 : 유저, npc\n",
    "객체 : 캐릭터 1, ..., 캐릭터 n 등 유저 클래스 객체들\n",
    "\n",
    "\n"
   ]
  },
  {
   "cell_type": "code",
   "execution_count": 24,
   "metadata": {},
   "outputs": [],
   "source": [
    "import pickle\n",
    "ud = 'kim'\n",
    "lv = 50\n",
    "ch = 'human'\n",
    "items = {'sword':1, 're':10}"
   ]
  },
  {
   "cell_type": "code",
   "execution_count": 26,
   "metadata": {},
   "outputs": [],
   "source": [
    "with open(\"user1.p\",\"wb\") as f:\n",
    "    pickle.dump(ud, f)\n",
    "    pickle.dump(lv, f)\n",
    "    pickle.dump(ch, f)\n",
    "    pickle.dump(items, f)\n",
    "    "
   ]
  },
  {
   "cell_type": "code",
   "execution_count": 28,
   "metadata": {},
   "outputs": [],
   "source": [
    "with open(\"user1.p\",\"rb\") as f:\n",
    "    ud=pickle.load(f)\n",
    "    lv=pickle.load(f)\n",
    "    ch=pickle.load(f)\n",
    "    items=pickle.load(f)"
   ]
  },
  {
   "cell_type": "code",
   "execution_count": 29,
   "metadata": {},
   "outputs": [
    {
     "name": "stdout",
     "output_type": "stream",
     "text": [
      "kim\n"
     ]
    }
   ],
   "source": [
    "print(ud)"
   ]
  },
  {
   "cell_type": "code",
   "execution_count": 32,
   "metadata": {},
   "outputs": [
    {
     "name": "stdout",
     "output_type": "stream",
     "text": [
      "입력ㄱㄷㅈㄷㄱ\n",
      "True\n"
     ]
    }
   ],
   "source": [
    "w=input(\"입력\")\n",
    "print(w==w[::-1])\n",
    "#회문판별\n"
   ]
  },
  {
   "cell_type": "code",
   "execution_count": null,
   "metadata": {},
   "outputs": [],
   "source": []
  }
 ],
 "metadata": {
  "kernelspec": {
   "display_name": "Python 3",
   "language": "python",
   "name": "python3"
  },
  "language_info": {
   "codemirror_mode": {
    "name": "ipython",
    "version": 3
   },
   "file_extension": ".py",
   "mimetype": "text/x-python",
   "name": "python",
   "nbconvert_exporter": "python",
   "pygments_lexer": "ipython3",
   "version": "3.8.5"
  }
 },
 "nbformat": 4,
 "nbformat_minor": 4
}
