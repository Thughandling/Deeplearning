{
 "cells": [
  {
   "cell_type": "markdown",
   "metadata": {},
   "source": [
    "### Naver 영화\n",
    "\n"
   ]
  },
  {
   "cell_type": "code",
   "execution_count": 1,
   "metadata": {},
   "outputs": [],
   "source": [
    "from selenium import webdriver\n",
    "import time\n",
    "from bs4 import BeautifulSoup\n",
    "import urllib.request as req\n",
    "import pandas as pd\n",
    "import numpy as np\n",
    "##################\n",
    "import matplotlib.pyplot as plt\n",
    "import seaborn as sns\n",
    "import matplotlib\n",
    "from matplotlib import font_manager, rc\n",
    "import platform\n",
    "if platform.system()==\"Windows\":\n",
    "    font_name=font_manager.FontProperties(fname=\"c:/Windows/Fonts/malgun.ttf\").get_name()\n",
    "    rc('font', family=font_name)\n",
    "matplotlib.rcParams['axes.unicode_minus']=False\n",
    "import warnings\n",
    "warnings.filterwarnings(\"ignore\")\n",
    "import re"
   ]
  },
  {
   "cell_type": "code",
   "execution_count": 2,
   "metadata": {},
   "outputs": [],
   "source": [
    "driver = webdriver.Chrome('chromedriver.exe')\n",
    "driver.get('https://movie.naver.com/movie/running/current.naver?view=list&tab=normal&order=point')\n",
    "time.sleep(2)"
   ]
  },
  {
   "cell_type": "markdown",
   "metadata": {},
   "source": [
    "### 평점 순 50위 이상// 평점, 제목, 장르순"
   ]
  },
  {
   "cell_type": "code",
   "execution_count": 3,
   "metadata": {},
   "outputs": [
    {
     "data": {
      "text/plain": [
       "[[10.0, '페이블', '액션'],\n",
       " [9.89, '워스', '코미디'],\n",
       " [9.88, '은혼 더 파이널', '범죄'],\n",
       " [9.41, '보스 베이비 2', '드라마'],\n",
       " [9.34, 'CCTV', '애니메이션'],\n",
       " [9.33, '샤먼 로드', '애니메이션'],\n",
       " [9.33, '아이들은 즐겁다', '코미디'],\n",
       " [9.33, '피아니스트', '모험'],\n",
       " [9.3, '나는 나대로 혼자서 간다', '공포'],\n",
       " [9.28, '극장판 귀멸의 칼날: 무한열차편', '다큐멘터리'],\n",
       " [9.24, '크루엘라', '드라마'],\n",
       " [9.21, '미스 사이공: 25주년 특별 공연', '드라마'],\n",
       " [9.09, '이번엔 잘 되겠지', '전쟁'],\n",
       " [9.06, '루카', '드라마'],\n",
       " [9.03, '꽃다발 같은 사랑을 했다', '애니메이션'],\n",
       " [9.02, '조제, 호랑이 그리고 물고기들', '드라마'],\n",
       " [9.0, '자메이카의 소울: 이나 데 야드', '범죄'],\n",
       " [9.0, '크레센도', '코미디'],\n",
       " [9.0, '폭력의 그림자', '공연실황'],\n",
       " [8.98, '번지 점프를 하다', '코미디'],\n",
       " [8.95, '이보다 더 좋을 순 없다', '애니메이션'],\n",
       " [8.93, '러브 액츄얼리', '모험'],\n",
       " [8.92, '중경삼림', '코미디'],\n",
       " [8.89, '이별의 아침에 약속의 꽃을 장식하자', '멜로/로맨스'],\n",
       " [8.8, '숏버스 이별행', '애니메이션'],\n",
       " [8.8, '피닉스', '드라마'],\n",
       " [8.79, '너의 이름은.', '다큐멘터리'],\n",
       " [8.78, '북샵', '드라마'],\n",
       " [8.77, '화양연화', '드라마'],\n",
       " [8.59, '와인 패밀리', '범죄'],\n",
       " [8.5, '죽어도 좋은 경험', '멜로/로맨스'],\n",
       " [8.5, '블랙 위도우', '코미디'],\n",
       " [8.47, '노매드랜드', '드라마'],\n",
       " [8.47, '혼자 사는 사람들', '멜로/로맨스'],\n",
       " [8.46, '낫아웃', '드라마'],\n",
       " [8.44, '빛나는 순간', '코미디'],\n",
       " [8.44, '링', '드라마'],\n",
       " [8.39, '사막의 라이온', '애니메이션'],\n",
       " [8.36, '욕창', '드라마'],\n",
       " [8.33, '이스케이프 룸 2: 노 웨이 아웃', '코미디'],\n",
       " [8.27, '이도공간', '멜로/로맨스'],\n",
       " [8.27, '인 더 하이츠', '드라마'],\n",
       " [8.26, '운디네', '애니메이션'],\n",
       " [8.21, '달맞이꽃', '드라마'],\n",
       " [8.21, '콰이어트 플레이스 2', '멜로/로맨스'],\n",
       " [8.2, '바람이 우리를 데려다 주리라', '드라마'],\n",
       " [8.17, '인사이드 르윈', '드라마'],\n",
       " [8.17, '언어의 정원', '멜로/로맨스'],\n",
       " [8.15, '흩어진 밤', '드라마'],\n",
       " [8.1, '액션히어로', '코미디']]"
      ]
     },
     "execution_count": 3,
     "metadata": {},
     "output_type": "execute_result"
    }
   ],
   "source": [
    "check = []\n",
    "for i in range(50):\n",
    "    score = driver.find_elements_by_css_selector('dd:nth-child(2) > div > a > span.num')[i].text\n",
    "    score = float(score)\n",
    "    score = round(score,2)\n",
    "    name = driver.find_elements_by_css_selector('dt.tit > a')[i].text\n",
    "    out_line = driver.find_elements_by_css_selector('dd:nth-child(2) > span.link_txt > a')[i].text\n",
    "    check.append([score,name,out_line])\n",
    "check"
   ]
  },
  {
   "cell_type": "code",
   "execution_count": 4,
   "metadata": {},
   "outputs": [
    {
     "data": {
      "text/html": [
       "<div>\n",
       "<style scoped>\n",
       "    .dataframe tbody tr th:only-of-type {\n",
       "        vertical-align: middle;\n",
       "    }\n",
       "\n",
       "    .dataframe tbody tr th {\n",
       "        vertical-align: top;\n",
       "    }\n",
       "\n",
       "    .dataframe thead th {\n",
       "        text-align: right;\n",
       "    }\n",
       "</style>\n",
       "<table border=\"1\" class=\"dataframe\">\n",
       "  <thead>\n",
       "    <tr style=\"text-align: right;\">\n",
       "      <th></th>\n",
       "      <th>Score</th>\n",
       "      <th>Title</th>\n",
       "      <th>Genre</th>\n",
       "    </tr>\n",
       "  </thead>\n",
       "  <tbody>\n",
       "    <tr>\n",
       "      <th>1</th>\n",
       "      <td>10.00</td>\n",
       "      <td>페이블</td>\n",
       "      <td>액션</td>\n",
       "    </tr>\n",
       "    <tr>\n",
       "      <th>2</th>\n",
       "      <td>9.89</td>\n",
       "      <td>워스</td>\n",
       "      <td>코미디</td>\n",
       "    </tr>\n",
       "    <tr>\n",
       "      <th>3</th>\n",
       "      <td>9.88</td>\n",
       "      <td>은혼 더 파이널</td>\n",
       "      <td>범죄</td>\n",
       "    </tr>\n",
       "    <tr>\n",
       "      <th>4</th>\n",
       "      <td>9.41</td>\n",
       "      <td>보스 베이비 2</td>\n",
       "      <td>드라마</td>\n",
       "    </tr>\n",
       "    <tr>\n",
       "      <th>5</th>\n",
       "      <td>9.34</td>\n",
       "      <td>CCTV</td>\n",
       "      <td>애니메이션</td>\n",
       "    </tr>\n",
       "    <tr>\n",
       "      <th>6</th>\n",
       "      <td>9.33</td>\n",
       "      <td>샤먼 로드</td>\n",
       "      <td>애니메이션</td>\n",
       "    </tr>\n",
       "    <tr>\n",
       "      <th>7</th>\n",
       "      <td>9.33</td>\n",
       "      <td>아이들은 즐겁다</td>\n",
       "      <td>코미디</td>\n",
       "    </tr>\n",
       "    <tr>\n",
       "      <th>8</th>\n",
       "      <td>9.33</td>\n",
       "      <td>피아니스트</td>\n",
       "      <td>모험</td>\n",
       "    </tr>\n",
       "    <tr>\n",
       "      <th>9</th>\n",
       "      <td>9.30</td>\n",
       "      <td>나는 나대로 혼자서 간다</td>\n",
       "      <td>공포</td>\n",
       "    </tr>\n",
       "    <tr>\n",
       "      <th>10</th>\n",
       "      <td>9.28</td>\n",
       "      <td>극장판 귀멸의 칼날: 무한열차편</td>\n",
       "      <td>다큐멘터리</td>\n",
       "    </tr>\n",
       "    <tr>\n",
       "      <th>11</th>\n",
       "      <td>9.24</td>\n",
       "      <td>크루엘라</td>\n",
       "      <td>드라마</td>\n",
       "    </tr>\n",
       "    <tr>\n",
       "      <th>12</th>\n",
       "      <td>9.21</td>\n",
       "      <td>미스 사이공: 25주년 특별 공연</td>\n",
       "      <td>드라마</td>\n",
       "    </tr>\n",
       "    <tr>\n",
       "      <th>13</th>\n",
       "      <td>9.09</td>\n",
       "      <td>이번엔 잘 되겠지</td>\n",
       "      <td>전쟁</td>\n",
       "    </tr>\n",
       "    <tr>\n",
       "      <th>14</th>\n",
       "      <td>9.06</td>\n",
       "      <td>루카</td>\n",
       "      <td>드라마</td>\n",
       "    </tr>\n",
       "    <tr>\n",
       "      <th>15</th>\n",
       "      <td>9.03</td>\n",
       "      <td>꽃다발 같은 사랑을 했다</td>\n",
       "      <td>애니메이션</td>\n",
       "    </tr>\n",
       "    <tr>\n",
       "      <th>16</th>\n",
       "      <td>9.02</td>\n",
       "      <td>조제, 호랑이 그리고 물고기들</td>\n",
       "      <td>드라마</td>\n",
       "    </tr>\n",
       "    <tr>\n",
       "      <th>17</th>\n",
       "      <td>9.00</td>\n",
       "      <td>자메이카의 소울: 이나 데 야드</td>\n",
       "      <td>범죄</td>\n",
       "    </tr>\n",
       "    <tr>\n",
       "      <th>18</th>\n",
       "      <td>9.00</td>\n",
       "      <td>크레센도</td>\n",
       "      <td>코미디</td>\n",
       "    </tr>\n",
       "    <tr>\n",
       "      <th>19</th>\n",
       "      <td>9.00</td>\n",
       "      <td>폭력의 그림자</td>\n",
       "      <td>공연실황</td>\n",
       "    </tr>\n",
       "    <tr>\n",
       "      <th>20</th>\n",
       "      <td>8.98</td>\n",
       "      <td>번지 점프를 하다</td>\n",
       "      <td>코미디</td>\n",
       "    </tr>\n",
       "    <tr>\n",
       "      <th>21</th>\n",
       "      <td>8.95</td>\n",
       "      <td>이보다 더 좋을 순 없다</td>\n",
       "      <td>애니메이션</td>\n",
       "    </tr>\n",
       "    <tr>\n",
       "      <th>22</th>\n",
       "      <td>8.93</td>\n",
       "      <td>러브 액츄얼리</td>\n",
       "      <td>모험</td>\n",
       "    </tr>\n",
       "    <tr>\n",
       "      <th>23</th>\n",
       "      <td>8.92</td>\n",
       "      <td>중경삼림</td>\n",
       "      <td>코미디</td>\n",
       "    </tr>\n",
       "    <tr>\n",
       "      <th>24</th>\n",
       "      <td>8.89</td>\n",
       "      <td>이별의 아침에 약속의 꽃을 장식하자</td>\n",
       "      <td>멜로/로맨스</td>\n",
       "    </tr>\n",
       "    <tr>\n",
       "      <th>25</th>\n",
       "      <td>8.80</td>\n",
       "      <td>숏버스 이별행</td>\n",
       "      <td>애니메이션</td>\n",
       "    </tr>\n",
       "    <tr>\n",
       "      <th>26</th>\n",
       "      <td>8.80</td>\n",
       "      <td>피닉스</td>\n",
       "      <td>드라마</td>\n",
       "    </tr>\n",
       "    <tr>\n",
       "      <th>27</th>\n",
       "      <td>8.79</td>\n",
       "      <td>너의 이름은.</td>\n",
       "      <td>다큐멘터리</td>\n",
       "    </tr>\n",
       "    <tr>\n",
       "      <th>28</th>\n",
       "      <td>8.78</td>\n",
       "      <td>북샵</td>\n",
       "      <td>드라마</td>\n",
       "    </tr>\n",
       "    <tr>\n",
       "      <th>29</th>\n",
       "      <td>8.77</td>\n",
       "      <td>화양연화</td>\n",
       "      <td>드라마</td>\n",
       "    </tr>\n",
       "    <tr>\n",
       "      <th>30</th>\n",
       "      <td>8.59</td>\n",
       "      <td>와인 패밀리</td>\n",
       "      <td>범죄</td>\n",
       "    </tr>\n",
       "    <tr>\n",
       "      <th>31</th>\n",
       "      <td>8.50</td>\n",
       "      <td>죽어도 좋은 경험</td>\n",
       "      <td>멜로/로맨스</td>\n",
       "    </tr>\n",
       "    <tr>\n",
       "      <th>32</th>\n",
       "      <td>8.50</td>\n",
       "      <td>블랙 위도우</td>\n",
       "      <td>코미디</td>\n",
       "    </tr>\n",
       "    <tr>\n",
       "      <th>33</th>\n",
       "      <td>8.47</td>\n",
       "      <td>노매드랜드</td>\n",
       "      <td>드라마</td>\n",
       "    </tr>\n",
       "    <tr>\n",
       "      <th>34</th>\n",
       "      <td>8.47</td>\n",
       "      <td>혼자 사는 사람들</td>\n",
       "      <td>멜로/로맨스</td>\n",
       "    </tr>\n",
       "    <tr>\n",
       "      <th>35</th>\n",
       "      <td>8.46</td>\n",
       "      <td>낫아웃</td>\n",
       "      <td>드라마</td>\n",
       "    </tr>\n",
       "    <tr>\n",
       "      <th>36</th>\n",
       "      <td>8.44</td>\n",
       "      <td>빛나는 순간</td>\n",
       "      <td>코미디</td>\n",
       "    </tr>\n",
       "    <tr>\n",
       "      <th>37</th>\n",
       "      <td>8.44</td>\n",
       "      <td>링</td>\n",
       "      <td>드라마</td>\n",
       "    </tr>\n",
       "    <tr>\n",
       "      <th>38</th>\n",
       "      <td>8.39</td>\n",
       "      <td>사막의 라이온</td>\n",
       "      <td>애니메이션</td>\n",
       "    </tr>\n",
       "    <tr>\n",
       "      <th>39</th>\n",
       "      <td>8.36</td>\n",
       "      <td>욕창</td>\n",
       "      <td>드라마</td>\n",
       "    </tr>\n",
       "    <tr>\n",
       "      <th>40</th>\n",
       "      <td>8.33</td>\n",
       "      <td>이스케이프 룸 2: 노 웨이 아웃</td>\n",
       "      <td>코미디</td>\n",
       "    </tr>\n",
       "    <tr>\n",
       "      <th>41</th>\n",
       "      <td>8.27</td>\n",
       "      <td>이도공간</td>\n",
       "      <td>멜로/로맨스</td>\n",
       "    </tr>\n",
       "    <tr>\n",
       "      <th>42</th>\n",
       "      <td>8.27</td>\n",
       "      <td>인 더 하이츠</td>\n",
       "      <td>드라마</td>\n",
       "    </tr>\n",
       "    <tr>\n",
       "      <th>43</th>\n",
       "      <td>8.26</td>\n",
       "      <td>운디네</td>\n",
       "      <td>애니메이션</td>\n",
       "    </tr>\n",
       "    <tr>\n",
       "      <th>44</th>\n",
       "      <td>8.21</td>\n",
       "      <td>달맞이꽃</td>\n",
       "      <td>드라마</td>\n",
       "    </tr>\n",
       "    <tr>\n",
       "      <th>45</th>\n",
       "      <td>8.21</td>\n",
       "      <td>콰이어트 플레이스 2</td>\n",
       "      <td>멜로/로맨스</td>\n",
       "    </tr>\n",
       "    <tr>\n",
       "      <th>46</th>\n",
       "      <td>8.20</td>\n",
       "      <td>바람이 우리를 데려다 주리라</td>\n",
       "      <td>드라마</td>\n",
       "    </tr>\n",
       "    <tr>\n",
       "      <th>47</th>\n",
       "      <td>8.17</td>\n",
       "      <td>인사이드 르윈</td>\n",
       "      <td>드라마</td>\n",
       "    </tr>\n",
       "    <tr>\n",
       "      <th>48</th>\n",
       "      <td>8.17</td>\n",
       "      <td>언어의 정원</td>\n",
       "      <td>멜로/로맨스</td>\n",
       "    </tr>\n",
       "    <tr>\n",
       "      <th>49</th>\n",
       "      <td>8.15</td>\n",
       "      <td>흩어진 밤</td>\n",
       "      <td>드라마</td>\n",
       "    </tr>\n",
       "    <tr>\n",
       "      <th>50</th>\n",
       "      <td>8.10</td>\n",
       "      <td>액션히어로</td>\n",
       "      <td>코미디</td>\n",
       "    </tr>\n",
       "  </tbody>\n",
       "</table>\n",
       "</div>"
      ],
      "text/plain": [
       "    Score                Title   Genre\n",
       "1   10.00                  페이블      액션\n",
       "2    9.89                   워스     코미디\n",
       "3    9.88             은혼 더 파이널      범죄\n",
       "4    9.41             보스 베이비 2     드라마\n",
       "5    9.34                 CCTV   애니메이션\n",
       "6    9.33                샤먼 로드   애니메이션\n",
       "7    9.33             아이들은 즐겁다     코미디\n",
       "8    9.33                피아니스트      모험\n",
       "9    9.30        나는 나대로 혼자서 간다      공포\n",
       "10   9.28    극장판 귀멸의 칼날: 무한열차편   다큐멘터리\n",
       "11   9.24                 크루엘라     드라마\n",
       "12   9.21   미스 사이공: 25주년 특별 공연     드라마\n",
       "13   9.09            이번엔 잘 되겠지      전쟁\n",
       "14   9.06                   루카     드라마\n",
       "15   9.03        꽃다발 같은 사랑을 했다   애니메이션\n",
       "16   9.02     조제, 호랑이 그리고 물고기들     드라마\n",
       "17   9.00    자메이카의 소울: 이나 데 야드      범죄\n",
       "18   9.00                 크레센도     코미디\n",
       "19   9.00              폭력의 그림자    공연실황\n",
       "20   8.98            번지 점프를 하다     코미디\n",
       "21   8.95        이보다 더 좋을 순 없다   애니메이션\n",
       "22   8.93              러브 액츄얼리      모험\n",
       "23   8.92                 중경삼림     코미디\n",
       "24   8.89  이별의 아침에 약속의 꽃을 장식하자  멜로/로맨스\n",
       "25   8.80              숏버스 이별행   애니메이션\n",
       "26   8.80                  피닉스     드라마\n",
       "27   8.79              너의 이름은.   다큐멘터리\n",
       "28   8.78                   북샵     드라마\n",
       "29   8.77                 화양연화     드라마\n",
       "30   8.59               와인 패밀리      범죄\n",
       "31   8.50            죽어도 좋은 경험  멜로/로맨스\n",
       "32   8.50               블랙 위도우     코미디\n",
       "33   8.47                노매드랜드     드라마\n",
       "34   8.47            혼자 사는 사람들  멜로/로맨스\n",
       "35   8.46                  낫아웃     드라마\n",
       "36   8.44               빛나는 순간     코미디\n",
       "37   8.44                    링     드라마\n",
       "38   8.39              사막의 라이온   애니메이션\n",
       "39   8.36                   욕창     드라마\n",
       "40   8.33   이스케이프 룸 2: 노 웨이 아웃     코미디\n",
       "41   8.27                 이도공간  멜로/로맨스\n",
       "42   8.27              인 더 하이츠     드라마\n",
       "43   8.26                  운디네   애니메이션\n",
       "44   8.21                 달맞이꽃     드라마\n",
       "45   8.21          콰이어트 플레이스 2  멜로/로맨스\n",
       "46   8.20      바람이 우리를 데려다 주리라     드라마\n",
       "47   8.17              인사이드 르윈     드라마\n",
       "48   8.17               언어의 정원  멜로/로맨스\n",
       "49   8.15                흩어진 밤     드라마\n",
       "50   8.10                액션히어로     코미디"
      ]
     },
     "execution_count": 4,
     "metadata": {},
     "output_type": "execute_result"
    }
   ],
   "source": [
    "data = pd.DataFrame(check, columns = ['Score','Title','Genre'])\n",
    "data.index = data.index+1\n",
    "data"
   ]
  },
  {
   "cell_type": "markdown",
   "metadata": {},
   "source": [
    "#### 평점 순위 50이상 장르 분석"
   ]
  },
  {
   "cell_type": "code",
   "execution_count": 5,
   "metadata": {},
   "outputs": [
    {
     "data": {
      "text/plain": [
       "array([['드라마', 17],\n",
       "       ['코미디', 9],\n",
       "       ['애니메이션', 7],\n",
       "       ['멜로/로맨스', 6],\n",
       "       ['범죄', 3],\n",
       "       ['모험', 2],\n",
       "       ['다큐멘터리', 2],\n",
       "       ['액션', 1],\n",
       "       ['공포', 1],\n",
       "       ['전쟁', 1],\n",
       "       ['공연실황', 1]], dtype=object)"
      ]
     },
     "execution_count": 5,
     "metadata": {},
     "output_type": "execute_result"
    }
   ],
   "source": [
    "from collections import Counter\n",
    "Counter(data['Genre']).most_common(50)\n",
    "dataDF=pd.DataFrame(Counter(data['Genre']).most_common(50), columns = ['Genre','Score'])\n",
    "dataDF.index = dataDF.index+1\n",
    "data_np = np.array(dataDF)\n",
    "data_np"
   ]
  },
  {
   "cell_type": "code",
   "execution_count": 6,
   "metadata": {
    "scrolled": true
   },
   "outputs": [
    {
     "data": {
      "text/plain": [
       "<AxesSubplot:xlabel='Genre', ylabel='Score'>"
      ]
     },
     "execution_count": 6,
     "metadata": {},
     "output_type": "execute_result"
    },
    {
     "data": {
      "image/png": "[encoded data removed]",
      "text/plain": [
       "<Figure size 720x576 with 1 Axes>"
      ]
     },
     "metadata": {
      "needs_background": "light"
     },
     "output_type": "display_data"
    }
   ],
   "source": [
    "plt.figure(figsize=(10,8))\n",
    "sns.barplot(x='Genre', y='Score',data=dataDF)"
   ]
  },
  {
   "cell_type": "markdown",
   "metadata": {},
   "source": [
    "## 장르마다의 평점 평균 추출"
   ]
  },
  {
   "cell_type": "markdown",
   "metadata": {},
   "source": [
    "### 영화 평점 합산"
   ]
  },
  {
   "cell_type": "code",
   "execution_count": 7,
   "metadata": {
    "scrolled": true
   },
   "outputs": [
    {
     "data": {
      "text/plain": [
       "{'액션': 10.0,\n",
       " '코미디': 75.89,\n",
       " '범죄': 26.880000000000003,\n",
       " '드라마': 141.41,\n",
       " '애니메이션': 59.34,\n",
       " '모험': 17.33,\n",
       " '공포': 9.3,\n",
       " '다큐멘터리': 17.28,\n",
       " '전쟁': 9.09,\n",
       " '공연실황': 9.0,\n",
       " '멜로/로맨스': 48.89}"
      ]
     },
     "execution_count": 7,
     "metadata": {},
     "output_type": "execute_result"
    }
   ],
   "source": [
    "box = {}\n",
    "sum_= {}\n",
    "for i in range(len(check)): \n",
    "    if check[i][2] not in box: \n",
    "        ad = (check[i][0])\n",
    "        box.setdefault(check[i][2] , ad)\n",
    "    elif check[i][2] in box:\n",
    "        bc = int(check[i][0])\n",
    "        box[check[i][2]] =  ((box[check[i][2]]) + bc)\n",
    "box"
   ]
  },
  {
   "cell_type": "markdown",
   "metadata": {},
   "source": [
    "### 장르별 평점 평균 계산"
   ]
  },
  {
   "cell_type": "code",
   "execution_count": 8,
   "metadata": {
    "scrolled": true
   },
   "outputs": [
    {
     "name": "stdout",
     "output_type": "stream",
     "text": [
      "11\n"
     ]
    },
    {
     "data": {
      "text/plain": [
       "{'액션': 10.0,\n",
       " '코미디': 8.43,\n",
       " '범죄': 8.96,\n",
       " '드라마': 8.32,\n",
       " '애니메이션': 8.48,\n",
       " '모험': 8.66,\n",
       " '공포': 9.3,\n",
       " '다큐멘터리': 8.64,\n",
       " '전쟁': 9.09,\n",
       " '공연실황': 9.0,\n",
       " '멜로/로맨스': 8.15}"
      ]
     },
     "execution_count": 8,
     "metadata": {},
     "output_type": "execute_result"
    }
   ],
   "source": [
    "i=0\n",
    "count=0\n",
    "val = [0]*len(box)\n",
    "print(len(box))\n",
    "\n",
    "for i in range(len(data_np)):#장르별 중복 개수\n",
    "    for k,v in box.items():# 장르별 평점 합산\n",
    "        if data_np[i][0] == k:\n",
    "            v /= data_np[i][1]\n",
    "            val[i] = round(v,2)\n",
    "            \n",
    "# 평균 계산된 값 갱신            \n",
    "for i in range(len(data_np)):\n",
    "    box[data_np[i][0]] = val[i]\n",
    "\n",
    "box"
   ]
  },
  {
   "cell_type": "code",
   "execution_count": 9,
   "metadata": {},
   "outputs": [
    {
     "data": {
      "text/html": [
       "<div>\n",
       "<style scoped>\n",
       "    .dataframe tbody tr th:only-of-type {\n",
       "        vertical-align: middle;\n",
       "    }\n",
       "\n",
       "    .dataframe tbody tr th {\n",
       "        vertical-align: top;\n",
       "    }\n",
       "\n",
       "    .dataframe thead th {\n",
       "        text-align: right;\n",
       "    }\n",
       "</style>\n",
       "<table border=\"1\" class=\"dataframe\">\n",
       "  <thead>\n",
       "    <tr style=\"text-align: right;\">\n",
       "      <th></th>\n",
       "      <th>Genre</th>\n",
       "      <th>Score</th>\n",
       "    </tr>\n",
       "  </thead>\n",
       "  <tbody>\n",
       "    <tr>\n",
       "      <th>0</th>\n",
       "      <td>액션</td>\n",
       "      <td>10.00</td>\n",
       "    </tr>\n",
       "    <tr>\n",
       "      <th>1</th>\n",
       "      <td>코미디</td>\n",
       "      <td>8.43</td>\n",
       "    </tr>\n",
       "    <tr>\n",
       "      <th>2</th>\n",
       "      <td>범죄</td>\n",
       "      <td>8.96</td>\n",
       "    </tr>\n",
       "    <tr>\n",
       "      <th>3</th>\n",
       "      <td>드라마</td>\n",
       "      <td>8.32</td>\n",
       "    </tr>\n",
       "    <tr>\n",
       "      <th>4</th>\n",
       "      <td>애니메이션</td>\n",
       "      <td>8.48</td>\n",
       "    </tr>\n",
       "    <tr>\n",
       "      <th>5</th>\n",
       "      <td>모험</td>\n",
       "      <td>8.66</td>\n",
       "    </tr>\n",
       "    <tr>\n",
       "      <th>6</th>\n",
       "      <td>공포</td>\n",
       "      <td>9.30</td>\n",
       "    </tr>\n",
       "    <tr>\n",
       "      <th>7</th>\n",
       "      <td>다큐멘터리</td>\n",
       "      <td>8.64</td>\n",
       "    </tr>\n",
       "    <tr>\n",
       "      <th>8</th>\n",
       "      <td>전쟁</td>\n",
       "      <td>9.09</td>\n",
       "    </tr>\n",
       "    <tr>\n",
       "      <th>9</th>\n",
       "      <td>공연실황</td>\n",
       "      <td>9.00</td>\n",
       "    </tr>\n",
       "    <tr>\n",
       "      <th>10</th>\n",
       "      <td>멜로/로맨스</td>\n",
       "      <td>8.15</td>\n",
       "    </tr>\n",
       "  </tbody>\n",
       "</table>\n",
       "</div>"
      ],
      "text/plain": [
       "     Genre  Score\n",
       "0       액션  10.00\n",
       "1      코미디   8.43\n",
       "2       범죄   8.96\n",
       "3      드라마   8.32\n",
       "4    애니메이션   8.48\n",
       "5       모험   8.66\n",
       "6       공포   9.30\n",
       "7    다큐멘터리   8.64\n",
       "8       전쟁   9.09\n",
       "9     공연실황   9.00\n",
       "10  멜로/로맨스   8.15"
      ]
     },
     "execution_count": 9,
     "metadata": {},
     "output_type": "execute_result"
    }
   ],
   "source": [
    "box = list(box.items())\n",
    "box = pd.DataFrame(box, columns=['Genre','Score'])\n",
    "box.sort_values(by = 'Score')\n",
    "type(box)\n",
    "box"
   ]
  },
  {
   "cell_type": "markdown",
   "metadata": {},
   "source": [
    "### 장르별 평점 평균"
   ]
  },
  {
   "cell_type": "code",
   "execution_count": 10,
   "metadata": {
    "scrolled": true
   },
   "outputs": [
    {
     "data": {
      "text/plain": [
       "<AxesSubplot:xlabel='Score', ylabel='Genre'>"
      ]
     },
     "execution_count": 10,
     "metadata": {},
     "output_type": "execute_result"
    },
    {
     "data": {
      "image/png": "[encoded data removed]",
      "text/plain": [
       "<Figure size 720x576 with 1 Axes>"
      ]
     },
     "metadata": {
      "needs_background": "light"
     },
     "output_type": "display_data"
    }
   ],
   "source": [
    "plt.figure(figsize=(10,8))\n",
    "\n",
    "sns.barplot(y='Genre', x='Score',data=box)"
   ]
  },
  {
   "cell_type": "markdown",
   "metadata": {},
   "source": [
    "# 예매순 평점 변화"
   ]
  },
  {
   "cell_type": "code",
   "execution_count": 11,
   "metadata": {
    "scrolled": true
   },
   "outputs": [],
   "source": [
    "driver.find_element_by_css_selector('#scrollbar > div.scrollbar-box > div > div > ul > li:nth-child(5) > a').click()\n",
    "time.sleep(2)\n",
    "s = driver.find_element_by_xpath('//*[@id=\"topRunning\"]/ul/li[1]/a').click()"
   ]
  },
  {
   "cell_type": "markdown",
   "metadata": {},
   "source": [
    "#### 총 리뷰개수"
   ]
  },
  {
   "cell_type": "code",
   "execution_count": 12,
   "metadata": {},
   "outputs": [
    {
     "name": "stdout",
     "output_type": "stream",
     "text": [
      "74 page\n"
     ]
    }
   ],
   "source": [
    "Total_re= driver.find_element_by_css_selector('#old_content > h5 > div > strong').text\n",
    "total = int(Total_re)/10\n",
    "if total == int:\n",
    "    pass\n",
    "elif total != int:\n",
    "    total = round(total)+1\n",
    "print(total,'page')"
   ]
  },
  {
   "cell_type": "code",
   "execution_count": 13,
   "metadata": {},
   "outputs": [],
   "source": [
    "re_da = []\n",
    "checkpoint = []\n",
    "for i in range(1,total+1):\n",
    "    driver.get('https://movie.naver.com/movie/point/af/list.naver?st=mcode&sword=191597&page={}'.format(i))\n",
    "    re_len = len(driver.find_elements_by_css_selector('td.title'))\n",
    "    for j in range(1,re_len+1):\n",
    "        star = int(driver.find_elements_by_css_selector(\"#old_content > table > tbody > tr:nth-child({}) > td.title > div > em\".format(j))[0].text)\n",
    "        date = driver.find_elements_by_css_selector('#old_content > table > tbody > tr:nth-child({}) > td:nth-child(3)'.format(j))[0].text\n",
    "        date = date[-8:]\n",
    "        re_da.append([star, date])"
   ]
  },
  {
   "cell_type": "code",
   "execution_count": 14,
   "metadata": {},
   "outputs": [
    {
     "data": {
      "text/html": [
       "<div>\n",
       "<style scoped>\n",
       "    .dataframe tbody tr th:only-of-type {\n",
       "        vertical-align: middle;\n",
       "    }\n",
       "\n",
       "    .dataframe tbody tr th {\n",
       "        vertical-align: top;\n",
       "    }\n",
       "\n",
       "    .dataframe thead th {\n",
       "        text-align: right;\n",
       "    }\n",
       "</style>\n",
       "<table border=\"1\" class=\"dataframe\">\n",
       "  <thead>\n",
       "    <tr style=\"text-align: right;\">\n",
       "      <th></th>\n",
       "      <th>score</th>\n",
       "      <th>date</th>\n",
       "    </tr>\n",
       "  </thead>\n",
       "  <tbody>\n",
       "    <tr>\n",
       "      <th>1</th>\n",
       "      <td>9</td>\n",
       "      <td>21.07.24</td>\n",
       "    </tr>\n",
       "    <tr>\n",
       "      <th>2</th>\n",
       "      <td>7</td>\n",
       "      <td>21.07.23</td>\n",
       "    </tr>\n",
       "    <tr>\n",
       "      <th>3</th>\n",
       "      <td>4</td>\n",
       "      <td>21.07.23</td>\n",
       "    </tr>\n",
       "    <tr>\n",
       "      <th>4</th>\n",
       "      <td>10</td>\n",
       "      <td>21.07.23</td>\n",
       "    </tr>\n",
       "    <tr>\n",
       "      <th>5</th>\n",
       "      <td>10</td>\n",
       "      <td>21.07.23</td>\n",
       "    </tr>\n",
       "    <tr>\n",
       "      <th>...</th>\n",
       "      <td>...</td>\n",
       "      <td>...</td>\n",
       "    </tr>\n",
       "    <tr>\n",
       "      <th>730</th>\n",
       "      <td>10</td>\n",
       "      <td>21.07.21</td>\n",
       "    </tr>\n",
       "    <tr>\n",
       "      <th>731</th>\n",
       "      <td>10</td>\n",
       "      <td>21.07.21</td>\n",
       "    </tr>\n",
       "    <tr>\n",
       "      <th>732</th>\n",
       "      <td>10</td>\n",
       "      <td>21.07.21</td>\n",
       "    </tr>\n",
       "    <tr>\n",
       "      <th>733</th>\n",
       "      <td>5</td>\n",
       "      <td>21.07.21</td>\n",
       "    </tr>\n",
       "    <tr>\n",
       "      <th>734</th>\n",
       "      <td>10</td>\n",
       "      <td>21.07.21</td>\n",
       "    </tr>\n",
       "  </tbody>\n",
       "</table>\n",
       "<p>734 rows × 2 columns</p>\n",
       "</div>"
      ],
      "text/plain": [
       "     score      date\n",
       "1        9  21.07.24\n",
       "2        7  21.07.23\n",
       "3        4  21.07.23\n",
       "4       10  21.07.23\n",
       "5       10  21.07.23\n",
       "..     ...       ...\n",
       "730     10  21.07.21\n",
       "731     10  21.07.21\n",
       "732     10  21.07.21\n",
       "733      5  21.07.21\n",
       "734     10  21.07.21\n",
       "\n",
       "[734 rows x 2 columns]"
      ]
     },
     "execution_count": 14,
     "metadata": {},
     "output_type": "execute_result"
    }
   ],
   "source": [
    "df = pd.DataFrame(re_da)\n",
    "df.index +=1\n",
    "df.columns = ['score', 'date']\n",
    "df"
   ]
  },
  {
   "cell_type": "markdown",
   "metadata": {},
   "source": [
    "### 날짜 구분 짓기 위함"
   ]
  },
  {
   "cell_type": "code",
   "execution_count": 15,
   "metadata": {},
   "outputs": [
    {
     "name": "stdout",
     "output_type": "stream",
     "text": [
      "1\n",
      "21.07.23 21.07.24\n",
      "87\n",
      "21.07.22 21.07.23\n",
      "292\n",
      "21.07.21 21.07.22\n",
      "[1, 87, 292]\n"
     ]
    }
   ],
   "source": [
    "checkpoint = []\n",
    "for i in range(1,len(re_da)):\n",
    "    if re_da[i][1] != re_da[i-1][1]:\n",
    "        print(i)\n",
    "        print(re_da[i][1],re_da[i-1][1])\n",
    "        checkpoint.append(i)\n",
    "print(checkpoint)\n",
    "\n",
    "#df__=[0]*(len(checkpoint)+1)\n",
    "df__ =  {}\n",
    "i=0\n",
    "j=0\n",
    "\n",
    "#1,2,3,4,5\n",
    "while i < len(checkpoint)+1:\n",
    "    if i == 0:\n",
    "        df__.setdefault(i,(df[ : checkpoint[j]]))     \n",
    "    elif i == len(checkpoint):\n",
    "        df__.setdefault(i,df[checkpoint[j-1]:])\n",
    "    else:\n",
    "        df__.setdefault(i,df[checkpoint[j-1]:checkpoint[j]])\n",
    "    \n",
    "    i+=1\n",
    "    j+=1"
   ]
  },
  {
   "cell_type": "markdown",
   "metadata": {},
   "source": [
    "### 날짜별 평점 합을 통한 평균 구함"
   ]
  },
  {
   "cell_type": "code",
   "execution_count": 16,
   "metadata": {},
   "outputs": [],
   "source": [
    "def variabel_sum(dataFrame):\n",
    "    sum1 = dataFrame['score'].sum()\n",
    "    s = sum1\n",
    "    s /= len(dataFrame)\n",
    "    s = round(s,2)\n",
    "    return s"
   ]
  },
  {
   "cell_type": "markdown",
   "metadata": {},
   "source": [
    "### 일별 변수 생성"
   ]
  },
  {
   "cell_type": "code",
   "execution_count": 17,
   "metadata": {
    "scrolled": false
   },
   "outputs": [],
   "source": [
    "sum_ = [] #일별 평점 평균 데이터 저장\n",
    "# df_1,2,3 변수 생성 저장\n",
    "date_ = [\"\"]*len(df__)\n",
    "for i in range(len(df__)):\n",
    "    globals()['df_{}'.format(i)] = df__[i]\n",
    "    dt = df__.get(i)\n",
    "    dt = dt.iloc[i]\n",
    "    dt = dt['date']\n",
    "    date_[i]= dt\n",
    " #   dt = \"\".join(dt)   \n",
    " #   dt = re.findall('\\d{2}.\\d{2}.\\d{2}',dt)\n",
    " #   date_[i] = str(dt)\n",
    "    sum_.append(variabel_sum(df__[i]))"
   ]
  },
  {
   "cell_type": "code",
   "execution_count": 18,
   "metadata": {},
   "outputs": [
    {
     "name": "stdout",
     "output_type": "stream",
     "text": [
      "일별 평점 평균\n",
      " ------------------------------ \n",
      " [9.0, 9.35, 9.12, 9.6]\n",
      "['21.07.24', '21.07.23', '21.07.22', '21.07.21']\n"
     ]
    }
   ],
   "source": [
    "print('일별 평점 평균\\n','-'*30,'\\n',sum_)\n",
    "print(date_)"
   ]
  },
  {
   "cell_type": "code",
   "execution_count": 19,
   "metadata": {},
   "outputs": [
    {
     "name": "stdout",
     "output_type": "stream",
     "text": [
      "['21.07.24', '21.07.23', '21.07.22', '21.07.21']\n"
     ]
    },
    {
     "data": {
      "image/png": "[encoded data removed]",
      "text/plain": [
       "<Figure size 432x288 with 1 Axes>"
      ]
     },
     "metadata": {
      "needs_background": "light"
     },
     "output_type": "display_data"
    }
   ],
   "source": [
    "x=date_#.to_list()\n",
    "print(x)\n",
    "y=sum_#.to_list()\n",
    "\n",
    "plt.plot(x,y)\n",
    "plt.show()"
   ]
  },
  {
   "cell_type": "code",
   "execution_count": 20,
   "metadata": {
    "scrolled": true
   },
   "outputs": [
    {
     "data": {
      "text/plain": [
       "<BarContainer object of 4 artists>"
      ]
     },
     "execution_count": 20,
     "metadata": {},
     "output_type": "execute_result"
    },
    {
     "data": {
      "image/png": "[encoded data removed]",
      "text/plain": [
       "<Figure size 576x432 with 1 Axes>"
      ]
     },
     "metadata": {
      "needs_background": "light"
     },
     "output_type": "display_data"
    }
   ],
   "source": [
    "y=sum_#.to_list()\n",
    "x=date_#.to_list()\n",
    "\n",
    "plt.figure(figsize = (8,6))\n",
    "plt.xlabel('date')\n",
    "plt.ylabel('score')\n",
    "colors = ['red','orange','green']\n",
    "plt.bar(x,y,width=0.7, color=colors)\n"
   ]
  },
  {
   "cell_type": "raw",
   "metadata": {},
   "source": [
    "#날짜별 변수 생성_ 구분하여 통계내리기 위함\n",
    "\n",
    "Variable_ea = len(checkpoint)\n",
    "for i in range(1,Variable_ea+1):\n",
    "    globals()['df_{}'.format(i)] = 0\n",
    "i=1\n",
    "j=0\n",
    "print(df_1)\n",
    "#1,2,3,4,5\n",
    "while i < Variable_ea+2: #Variable_ea = len(checkpoint)\n",
    "    print(Variable_ea+2)\n",
    "    print(df_[i])\n",
    "   ## if i == 1:\n",
    "   #     df[i] = df[ : checkpoint[j]]\n",
    "   ### elif i > 1 and Variable_ea+1>i:\n",
    "   #     df[i] = df[checkpoint[j]:checkpoint[j+1]]\n",
    "   ## elif i == Variable_ea+1:\n",
    "   #     df[i] = df[checkpoint[Variable_ea-1]:]\n",
    "    i+=1\n",
    "    j+=1"
   ]
  },
  {
   "cell_type": "code",
   "execution_count": null,
   "metadata": {},
   "outputs": [],
   "source": []
  }
 ],
 "metadata": {
  "kernelspec": {
   "display_name": "Python 3",
   "language": "python",
   "name": "python3"
  },
  "language_info": {
   "codemirror_mode": {
    "name": "ipython",
    "version": 3
   },
   "file_extension": ".py",
   "mimetype": "text/x-python",
   "name": "python",
   "nbconvert_exporter": "python",
   "pygments_lexer": "ipython3",
   "version": "3.8.5"
  }
 },
 "nbformat": 4,
 "nbformat_minor": 4
}
