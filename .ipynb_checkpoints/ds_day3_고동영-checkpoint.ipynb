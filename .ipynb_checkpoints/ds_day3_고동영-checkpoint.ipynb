{
 "cells": [
  {
   "cell_type": "markdown",
   "metadata": {},
   "source": [
    "### 1.  3개의 각으로 삼각형의 예각, 직각, 둔각을 구별하는 프로그램을 만들어라."
   ]
  },
  {
   "cell_type": "code",
   "execution_count": 43,
   "metadata": {},
   "outputs": [
    {
     "name": "stdout",
     "output_type": "stream",
     "text": [
      "[60, 60, 60] = 예각삼각형\n",
      "[30, 60, 90] = 직각삼각형\n",
      "[20, 40, 120] = 둔각삼각형\n",
      "[0, 90, 90] = 삼각형이 아니다\n",
      "[60, 70, 80] = 삼각형이 아니다\n",
      "[40, 40, 50, 50] = 삼각형이 아니다\n"
     ]
    }
   ],
   "source": [
    "def  angle(t):\n",
    "    result = ' '\n",
    "    if 90 in t and min(t) > 0 :\n",
    "        result ='직각삼각형'\n",
    "    elif max(t) > 90 :\n",
    "       \n",
    "        result = '둔각삼각형'\n",
    "    elif min(t) ==0 or sum(t) <180 or sum(t) > 180 or len(t)>3:\n",
    "        result = '삼각형이 아니다'\n",
    "    else:\n",
    "        result = \"예각삼각형\"\n",
    "    return result\n",
    "X = [[60, 60, 60],[30, 60, 90],[20, 40, 120],[0, 90, 90],[60, 70, 80],[40, 40, 50, 50]]\n",
    "for i in X:\n",
    "    print(i,\"=\",angle(i))\n",
    "    \n",
    "    \n"
   ]
  },
  {
   "cell_type": "markdown",
   "metadata": {},
   "source": [
    "### 2.크롤링 연습문제"
   ]
  },
  {
   "cell_type": "code",
   "execution_count": 45,
   "metadata": {},
   "outputs": [],
   "source": [
    "html = '''\n",
    "<html>\n",
    "    <head>\n",
    "    </head>\n",
    "    <body>\n",
    "        <h1> 우리동네시장</h1>\n",
    "            <div class = 'sale'>\n",
    "                <p id='fruits1' class='fruits'>\n",
    "                    <span class = 'name'> 바나나 </span>\n",
    "                    <span class = 'price'> 3000원 </span>\n",
    "                    <span class = 'inventory'> 500개 </span>\n",
    "                    <span class = 'store'> 가나다상회 </span>\n",
    "                    <a href = 'http://bit.ly/forPlaywithData' > 홈페이지 </a>\n",
    "                </p>\n",
    "            </div>\n",
    "            <div class = 'prepare'>\n",
    "                <p id='fruits2' class='fruits'>\n",
    "                    <span class ='name'> 파인애플 </span>\n",
    "                </p>\n",
    "            </div>\n",
    "    </body>\n",
    "</html>\n",
    "'''"
   ]
  },
  {
   "cell_type": "code",
   "execution_count": 65,
   "metadata": {},
   "outputs": [
    {
     "name": "stdout",
     "output_type": "stream",
     "text": [
      "바나나 가격  3000원  재고  500개 \n"
     ]
    },
    {
     "data": {
      "text/plain": [
       "' 파인애플 '"
      ]
     },
     "execution_count": 65,
     "metadata": {},
     "output_type": "execute_result"
    }
   ],
   "source": [
    "from bs4 import BeautifulSoup\n",
    "soup = BeautifulSoup(html,'html.parser')\n",
    "\n",
    "ban_pr = soup.select('span.price')[0].text\n",
    "ban_st = soup.select('span.inventory')[0].text\n",
    "print(\"바나나 가격\",ban_pr,'재고',ban_st)\n",
    "\n",
    "pineapple = soup.select('#fruits2 > span.name')[0].text\n",
    "pineapple"
   ]
  },
  {
   "cell_type": "markdown",
   "metadata": {},
   "source": [
    "### 3.  크롬드라이버 및 셀레니움을 사용하여 벅스,멜론, (지니)의 인기차트 데이터를 각각  50위까지 추출한 후,\n",
    "모두 통합하여 데이터프레임으로 저장하고 엑셀로 저장하시오.\n"
   ]
  },
  {
   "cell_type": "code",
   "execution_count": 66,
   "metadata": {},
   "outputs": [],
   "source": [
    "from selenium import webdriver\n",
    "import time\n",
    "from bs4 import BeautifulSoup"
   ]
  },
  {
   "cell_type": "code",
   "execution_count": 67,
   "metadata": {},
   "outputs": [],
   "source": [
    "driver = webdriver.Chrome('chromedriver.exe')\n",
    "driver.get('https://music.bugs.co.kr/chart')"
   ]
  },
  {
   "cell_type": "code",
   "execution_count": null,
   "metadata": {},
   "outputs": [],
   "source": [
    "driver.find_element_by_class_name"
   ]
  }
 ],
 "metadata": {
  "kernelspec": {
   "display_name": "Python 3",
   "language": "python",
   "name": "python3"
  },
  "language_info": {
   "codemirror_mode": {
    "name": "ipython",
    "version": 3
   },
   "file_extension": ".py",
   "mimetype": "text/x-python",
   "name": "python",
   "nbconvert_exporter": "python",
   "pygments_lexer": "ipython3",
   "version": "3.8.5"
  }
 },
 "nbformat": 4,
 "nbformat_minor": 4
}
