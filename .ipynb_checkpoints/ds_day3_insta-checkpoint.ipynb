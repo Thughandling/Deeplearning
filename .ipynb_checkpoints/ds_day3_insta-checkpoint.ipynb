{
 "cells": [
  {
   "cell_type": "raw",
   "metadata": {},
   "source": [
    "인스타그램 접속 ->칸쿤 맛집 검색 -> 좋아요 개수, 작성 날짜 추출 -> 출력\n",
    "\n"
   ]
  },
  {
   "cell_type": "raw",
   "metadata": {},
   "source": [
    "!pip install selenium"
   ]
  },
  {
   "cell_type": "code",
   "execution_count": 2,
   "metadata": {},
   "outputs": [],
   "source": [
    "from selenium import webdriver\n",
    "import time\n",
    "from bs4 import BeautifulSoup\n",
    "import urllib.request as req\n",
    "#html = driver.page_source\n",
    "#soup = BeautifulSoup(html,'html.parser')"
   ]
  },
  {
   "cell_type": "code",
   "execution_count": 3,
   "metadata": {},
   "outputs": [],
   "source": [
    "driver = webdriver.Chrome('chromedriver.exe')"
   ]
  },
  {
   "cell_type": "code",
   "execution_count": 4,
   "metadata": {},
   "outputs": [],
   "source": [
    "driver.get('https://www.instagram.com')\n",
    "time.sleep(2)"
   ]
  },
  {
   "cell_type": "code",
   "execution_count": 5,
   "metadata": {},
   "outputs": [],
   "source": [
    "email = 'kdy.___'\n",
    "inputid = driver.find_elements_by_css_selector('#loginForm > div > div > div > label > input')[0]\n",
    "inputid.clear()\n",
    "inputid.send_keys(email)\n"
   ]
  },
  {
   "cell_type": "code",
   "execution_count": 6,
   "metadata": {},
   "outputs": [],
   "source": [
    "pwd = '!1903757ko'\n",
    "inputpw = driver.find_elements_by_css_selector('#loginForm > div > div > div > label > input')[1]\n",
    "inputpw.clear()\n",
    "inputpw.send_keys(pwd)\n",
    "inputpw.submit()\n",
    "time.sleep(5)\n"
   ]
  },
  {
   "cell_type": "raw",
   "metadata": {},
   "source": [
    "#react-root > section > main > div > div > div > div > button\n",
    "<button class=\"sqdOP yWX7d    y3zKF     \" type=\"button\">나중에 하기</button>"
   ]
  },
  {
   "cell_type": "code",
   "execution_count": 8,
   "metadata": {},
   "outputs": [],
   "source": [
    "safe = driver.find_element_by_css_selector('#react-root > section > main > div > div > div > section > div > button')\n",
    "safe.click()#나중에 저장\n",
    "time.sleep(2)"
   ]
  },
  {
   "cell_type": "code",
   "execution_count": 9,
   "metadata": {},
   "outputs": [],
   "source": [
    "alram = driver.find_element_by_css_selector('body > div.RnEpo.Yx5HN > div > div > div > div.mt3GC > button.aOOlW.HoLwm')\n",
    "alram.click()#나중에 하기\n",
    "time.sleep(2)"
   ]
  },
  {
   "cell_type": "code",
   "execution_count": 22,
   "metadata": {},
   "outputs": [],
   "source": [
    "word = '칸쿤맛집'\n",
    "url = \"https://www.instagram.com/explore/tags/\"+word\n",
    "driver.get(url)\n",
    "time.sleep(10)"
   ]
  },
  {
   "cell_type": "code",
   "execution_count": 23,
   "metadata": {},
   "outputs": [],
   "source": [
    "first = driver.find_element_by_css_selector('div._9AhH0')\n",
    "first.click()\n",
    "time.sleep(2)\n",
    "#right = driver.find_element_by_css_selector('a. _65Bje  coreSpriteRightPaginationArrow')"
   ]
  },
  {
   "cell_type": "raw",
   "metadata": {},
   "source": [
    "like = driver.find_element_by_css_selector('a.zV_Nj').text\n",
    "date = driver.find_element_by_css_selector('a.c-Yi7').text\n",
    "date"
   ]
  },
  {
   "cell_type": "code",
   "execution_count": 24,
   "metadata": {},
   "outputs": [],
   "source": [
    "right = driver.find_element_by_css_selector('body > div._2dDPU.CkGkG > div.EfHg9 > div > div > a')\n",
    "#65Bje  coreSpriteRightPaginationArrow"
   ]
  },
  {
   "cell_type": "code",
   "execution_count": 25,
   "metadata": {},
   "outputs": [
    {
     "name": "stdout",
     "output_type": "stream",
     "text": [
      "좋아요 14개 2017년 11월 13일\n",
      "좋아요 44개 2019년 2월 14일\n",
      "좋아요 55개 2020년 3월 13일\n",
      "좋아요 39개 2018년 12월 2일\n",
      "좋아요 68개 2020년 3월 4일\n"
     ]
    }
   ],
   "source": [
    "for  i in range(5):\n",
    "    like = driver.find_element_by_css_selector('a.zV_Nj').text\n",
    "    date = driver.find_element_by_css_selector('a.c-Yi7').text\n",
    "    right.click()\n",
    "    time.sleep(5)\n",
    "    print(like, date)\n",
    "    "
   ]
  },
  {
   "cell_type": "code",
   "execution_count": null,
   "metadata": {},
   "outputs": [],
   "source": [
    "\n"
   ]
  },
  {
   "cell_type": "code",
   "execution_count": null,
   "metadata": {},
   "outputs": [],
   "source": []
  }
 ],
 "metadata": {
  "kernelspec": {
   "display_name": "Python 3",
   "language": "python",
   "name": "python3"
  },
  "language_info": {
   "codemirror_mode": {
    "name": "ipython",
    "version": 3
   },
   "file_extension": ".py",
   "mimetype": "text/x-python",
   "name": "python",
   "nbconvert_exporter": "python",
   "pygments_lexer": "ipython3",
   "version": "3.8.5"
  }
 },
 "nbformat": 4,
 "nbformat_minor": 5
}
