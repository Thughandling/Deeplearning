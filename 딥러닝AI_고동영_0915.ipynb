{
 "cells": [
  {
   "cell_type": "raw",
   "metadata": {},
   "source": [
    "1)"
   ]
  },
  {
   "cell_type": "code",
   "execution_count": 1,
   "metadata": {},
   "outputs": [],
   "source": [
    "def coin(n):\n",
    "    coins ={'500원':0,'100원':0,'50원':0,'10원':0,'나머지':0}\n",
    "    if n>500:\n",
    "        coins['500원'] = n//500\n",
    "        n = n - (n//500)*500\n",
    "    if n> 100:\n",
    "        coins['100원'] = n//100\n",
    "        n =  n-coins['100원']*100\n",
    "    if n> 50:\n",
    "        coins['50원'] = n//50\n",
    "        n = n - (int(n/50)*50)\n",
    "    if n> 10:\n",
    "        coins['10원'] = n//10\n",
    "        n = n - (int(n/10)*10)\n",
    "    if n < 10 :\n",
    "        coins['나머지'] = n\n",
    "    return coins     \n",
    "    \n",
    "        "
   ]
  },
  {
   "cell_type": "code",
   "execution_count": 2,
   "metadata": {},
   "outputs": [
    {
     "name": "stdout",
     "output_type": "stream",
     "text": [
      "7777\n",
      "{'500원': 15, '100원': 2, '50원': 1, '10원': 2, '나머지': 7}\n"
     ]
    }
   ],
   "source": [
    "change_coin = int(input())\n",
    "print(coin(change_coin))"
   ]
  },
  {
   "cell_type": "raw",
   "metadata": {},
   "source": [
    "2)"
   ]
  },
  {
   "cell_type": "code",
   "execution_count": 3,
   "metadata": {},
   "outputs": [],
   "source": [
    "from scipy.spatial import distance\n",
    "import pandas as pd\n",
    "import numpy as np"
   ]
  },
  {
   "cell_type": "code",
   "execution_count": 4,
   "metadata": {},
   "outputs": [],
   "source": [
    "critics ={\n",
    "    'BTS':{'밀정':5, '경이로운소문':4, '국제시장':1.5},\n",
    "'손흥민':{'밀정':4,'경이로운소문':5, '국제시장':2},\n",
    "'레드벨벳':{'밀정':2.5, '경이로운소문':2, '국제시장':1},\n",
    "'트와이스':{'밀정':3.5, '경이로운소문':4, '국제시장':5}\n",
    "    \n",
    "}"
   ]
  },
  {
   "cell_type": "code",
   "execution_count": 5,
   "metadata": {},
   "outputs": [
    {
     "name": "stdout",
     "output_type": "stream",
     "text": [
      "1.5 BTS\n",
      "3.5 레드벨벳\n",
      "3.2015621187164243 트와이스\n"
     ]
    }
   ],
   "source": [
    "euclid = []\n",
    "for i in critics:\n",
    "    if '손흥민'==i:\n",
    "        continue\n",
    "    a = list(critics['손흥민'].values())\n",
    "    b = list(critics['%s'%i].values())\n",
    "    print(distance.euclidean(a, b),i)\n",
    "    euclid.append([distance.euclidean(a, b),i])\n"
   ]
  },
  {
   "cell_type": "code",
   "execution_count": null,
   "metadata": {},
   "outputs": [],
   "source": [
    "print('손흥민과의 평점 유사도 및 그룹',max(euclid))"
   ]
  }
 ],
 "metadata": {
  "kernelspec": {
   "display_name": "Python 3",
   "language": "python",
   "name": "python3"
  },
  "language_info": {
   "codemirror_mode": {
    "name": "ipython",
    "version": 3
   },
   "file_extension": ".py",
   "mimetype": "text/x-python",
   "name": "python",
   "nbconvert_exporter": "python",
   "pygments_lexer": "ipython3",
   "version": "3.8.5"
  },
  "toc": {
   "base_numbering": 1,
   "nav_menu": {},
   "number_sections": true,
   "sideBar": true,
   "skip_h1_title": false,
   "title_cell": "Table of Contents",
   "title_sidebar": "Contents",
   "toc_cell": false,
   "toc_position": {},
   "toc_section_display": true,
   "toc_window_display": false
  }
 },
 "nbformat": 4,
 "nbformat_minor": 4
}
